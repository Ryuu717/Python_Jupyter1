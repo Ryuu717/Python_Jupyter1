{
 "cells": [
  {
   "cell_type": "code",
   "execution_count": 1,
   "id": "e7a060d9",
   "metadata": {},
   "outputs": [
    {
     "name": "stderr",
     "output_type": "stream",
     "text": [
      "Duplicate key in file PosixPath('/opt/anaconda3/lib/python3.8/site-packages/matplotlib/mpl-data/matplotlibrc'), line 250 ('font.family : IPAexGothic')\n"
     ]
    }
   ],
   "source": [
    "import  pandas as pd\n",
    "import numpy as np\n",
    "import matplotlib.pyplot as plt\n",
    "%matplotlib inline"
   ]
  },
  {
   "cell_type": "code",
   "execution_count": 35,
   "id": "6a6aa3c8",
   "metadata": {},
   "outputs": [],
   "source": [
    "train = pd.read_csv(\"train.tsv\", sep=\"\\t\")\n",
    "test = pd.read_csv(\"test.tsv\", sep=\"\\t\")\n",
    "sample = pd.read_csv(\"sample_submit.csv\", header=None)"
   ]
  },
  {
   "cell_type": "code",
   "execution_count": 3,
   "id": "85fcb4be",
   "metadata": {
    "scrolled": true
   },
   "outputs": [
    {
     "data": {
      "text/html": [
       "<div>\n",
       "<style scoped>\n",
       "    .dataframe tbody tr th:only-of-type {\n",
       "        vertical-align: middle;\n",
       "    }\n",
       "\n",
       "    .dataframe tbody tr th {\n",
       "        vertical-align: top;\n",
       "    }\n",
       "\n",
       "    .dataframe thead th {\n",
       "        text-align: right;\n",
       "    }\n",
       "</style>\n",
       "<table border=\"1\" class=\"dataframe\">\n",
       "  <thead>\n",
       "    <tr style=\"text-align: right;\">\n",
       "      <th></th>\n",
       "      <th>id</th>\n",
       "      <th>dteday</th>\n",
       "      <th>season</th>\n",
       "      <th>yr</th>\n",
       "      <th>mnth</th>\n",
       "      <th>hr</th>\n",
       "      <th>holiday</th>\n",
       "      <th>weekday</th>\n",
       "      <th>workingday</th>\n",
       "      <th>weathersit</th>\n",
       "      <th>temp</th>\n",
       "      <th>atemp</th>\n",
       "      <th>hum</th>\n",
       "      <th>windspeed</th>\n",
       "      <th>cnt</th>\n",
       "    </tr>\n",
       "  </thead>\n",
       "  <tbody>\n",
       "    <tr>\n",
       "      <th>0</th>\n",
       "      <td>1</td>\n",
       "      <td>2011-01-01</td>\n",
       "      <td>1</td>\n",
       "      <td>0</td>\n",
       "      <td>1</td>\n",
       "      <td>0</td>\n",
       "      <td>0</td>\n",
       "      <td>6</td>\n",
       "      <td>0</td>\n",
       "      <td>1</td>\n",
       "      <td>0.24</td>\n",
       "      <td>0.2879</td>\n",
       "      <td>0.81</td>\n",
       "      <td>0.0</td>\n",
       "      <td>16</td>\n",
       "    </tr>\n",
       "    <tr>\n",
       "      <th>1</th>\n",
       "      <td>2</td>\n",
       "      <td>2011-01-01</td>\n",
       "      <td>1</td>\n",
       "      <td>0</td>\n",
       "      <td>1</td>\n",
       "      <td>1</td>\n",
       "      <td>0</td>\n",
       "      <td>6</td>\n",
       "      <td>0</td>\n",
       "      <td>1</td>\n",
       "      <td>0.22</td>\n",
       "      <td>0.2727</td>\n",
       "      <td>0.80</td>\n",
       "      <td>0.0</td>\n",
       "      <td>40</td>\n",
       "    </tr>\n",
       "    <tr>\n",
       "      <th>2</th>\n",
       "      <td>3</td>\n",
       "      <td>2011-01-01</td>\n",
       "      <td>1</td>\n",
       "      <td>0</td>\n",
       "      <td>1</td>\n",
       "      <td>2</td>\n",
       "      <td>0</td>\n",
       "      <td>6</td>\n",
       "      <td>0</td>\n",
       "      <td>1</td>\n",
       "      <td>0.22</td>\n",
       "      <td>0.2727</td>\n",
       "      <td>0.80</td>\n",
       "      <td>0.0</td>\n",
       "      <td>32</td>\n",
       "    </tr>\n",
       "    <tr>\n",
       "      <th>3</th>\n",
       "      <td>4</td>\n",
       "      <td>2011-01-01</td>\n",
       "      <td>1</td>\n",
       "      <td>0</td>\n",
       "      <td>1</td>\n",
       "      <td>3</td>\n",
       "      <td>0</td>\n",
       "      <td>6</td>\n",
       "      <td>0</td>\n",
       "      <td>1</td>\n",
       "      <td>0.24</td>\n",
       "      <td>0.2879</td>\n",
       "      <td>0.75</td>\n",
       "      <td>0.0</td>\n",
       "      <td>13</td>\n",
       "    </tr>\n",
       "    <tr>\n",
       "      <th>4</th>\n",
       "      <td>5</td>\n",
       "      <td>2011-01-01</td>\n",
       "      <td>1</td>\n",
       "      <td>0</td>\n",
       "      <td>1</td>\n",
       "      <td>4</td>\n",
       "      <td>0</td>\n",
       "      <td>6</td>\n",
       "      <td>0</td>\n",
       "      <td>1</td>\n",
       "      <td>0.24</td>\n",
       "      <td>0.2879</td>\n",
       "      <td>0.75</td>\n",
       "      <td>0.0</td>\n",
       "      <td>1</td>\n",
       "    </tr>\n",
       "  </tbody>\n",
       "</table>\n",
       "</div>"
      ],
      "text/plain": [
       "   id      dteday  season  yr  mnth  hr  holiday  weekday  workingday  \\\n",
       "0   1  2011-01-01       1   0     1   0        0        6           0   \n",
       "1   2  2011-01-01       1   0     1   1        0        6           0   \n",
       "2   3  2011-01-01       1   0     1   2        0        6           0   \n",
       "3   4  2011-01-01       1   0     1   3        0        6           0   \n",
       "4   5  2011-01-01       1   0     1   4        0        6           0   \n",
       "\n",
       "   weathersit  temp   atemp   hum  windspeed  cnt  \n",
       "0           1  0.24  0.2879  0.81        0.0   16  \n",
       "1           1  0.22  0.2727  0.80        0.0   40  \n",
       "2           1  0.22  0.2727  0.80        0.0   32  \n",
       "3           1  0.24  0.2879  0.75        0.0   13  \n",
       "4           1  0.24  0.2879  0.75        0.0    1  "
      ]
     },
     "execution_count": 3,
     "metadata": {},
     "output_type": "execute_result"
    }
   ],
   "source": [
    "train.head()"
   ]
  },
  {
   "cell_type": "code",
   "execution_count": 4,
   "id": "1c20ae0e",
   "metadata": {},
   "outputs": [
    {
     "data": {
      "text/plain": [
       "id              int64\n",
       "dteday         object\n",
       "season          int64\n",
       "yr              int64\n",
       "mnth            int64\n",
       "hr              int64\n",
       "holiday         int64\n",
       "weekday         int64\n",
       "workingday      int64\n",
       "weathersit      int64\n",
       "temp          float64\n",
       "atemp         float64\n",
       "hum           float64\n",
       "windspeed     float64\n",
       "cnt             int64\n",
       "dtype: object"
      ]
     },
     "execution_count": 4,
     "metadata": {},
     "output_type": "execute_result"
    }
   ],
   "source": [
    "train.dtypes"
   ]
  },
  {
   "cell_type": "code",
   "execution_count": 5,
   "id": "ce0892ff",
   "metadata": {},
   "outputs": [
    {
     "data": {
      "text/html": [
       "<div>\n",
       "<style scoped>\n",
       "    .dataframe tbody tr th:only-of-type {\n",
       "        vertical-align: middle;\n",
       "    }\n",
       "\n",
       "    .dataframe tbody tr th {\n",
       "        vertical-align: top;\n",
       "    }\n",
       "\n",
       "    .dataframe thead th {\n",
       "        text-align: right;\n",
       "    }\n",
       "</style>\n",
       "<table border=\"1\" class=\"dataframe\">\n",
       "  <thead>\n",
       "    <tr style=\"text-align: right;\">\n",
       "      <th></th>\n",
       "      <th>id</th>\n",
       "      <th>season</th>\n",
       "      <th>yr</th>\n",
       "      <th>mnth</th>\n",
       "      <th>hr</th>\n",
       "      <th>holiday</th>\n",
       "      <th>weekday</th>\n",
       "      <th>workingday</th>\n",
       "      <th>weathersit</th>\n",
       "      <th>temp</th>\n",
       "      <th>atemp</th>\n",
       "      <th>hum</th>\n",
       "      <th>windspeed</th>\n",
       "      <th>cnt</th>\n",
       "    </tr>\n",
       "  </thead>\n",
       "  <tbody>\n",
       "    <tr>\n",
       "      <th>count</th>\n",
       "      <td>8645.000000</td>\n",
       "      <td>8645.000000</td>\n",
       "      <td>8645.0</td>\n",
       "      <td>8645.000000</td>\n",
       "      <td>8645.000000</td>\n",
       "      <td>8645.000000</td>\n",
       "      <td>8645.000000</td>\n",
       "      <td>8645.000000</td>\n",
       "      <td>8645.000000</td>\n",
       "      <td>8645.000000</td>\n",
       "      <td>8645.00000</td>\n",
       "      <td>8645.000000</td>\n",
       "      <td>8645.000000</td>\n",
       "      <td>8645.000000</td>\n",
       "    </tr>\n",
       "    <tr>\n",
       "      <th>mean</th>\n",
       "      <td>4323.000000</td>\n",
       "      <td>2.513592</td>\n",
       "      <td>0.0</td>\n",
       "      <td>6.573973</td>\n",
       "      <td>11.573626</td>\n",
       "      <td>0.027646</td>\n",
       "      <td>3.012724</td>\n",
       "      <td>0.683748</td>\n",
       "      <td>1.437594</td>\n",
       "      <td>0.489069</td>\n",
       "      <td>0.46900</td>\n",
       "      <td>0.643430</td>\n",
       "      <td>0.191172</td>\n",
       "      <td>143.794448</td>\n",
       "    </tr>\n",
       "    <tr>\n",
       "      <th>std</th>\n",
       "      <td>2495.740872</td>\n",
       "      <td>1.105477</td>\n",
       "      <td>0.0</td>\n",
       "      <td>3.428147</td>\n",
       "      <td>6.907822</td>\n",
       "      <td>0.163966</td>\n",
       "      <td>2.006370</td>\n",
       "      <td>0.465040</td>\n",
       "      <td>0.653859</td>\n",
       "      <td>0.197943</td>\n",
       "      <td>0.17676</td>\n",
       "      <td>0.196293</td>\n",
       "      <td>0.123191</td>\n",
       "      <td>133.797854</td>\n",
       "    </tr>\n",
       "    <tr>\n",
       "      <th>min</th>\n",
       "      <td>1.000000</td>\n",
       "      <td>1.000000</td>\n",
       "      <td>0.0</td>\n",
       "      <td>1.000000</td>\n",
       "      <td>0.000000</td>\n",
       "      <td>0.000000</td>\n",
       "      <td>0.000000</td>\n",
       "      <td>0.000000</td>\n",
       "      <td>1.000000</td>\n",
       "      <td>0.020000</td>\n",
       "      <td>0.00000</td>\n",
       "      <td>0.000000</td>\n",
       "      <td>0.000000</td>\n",
       "      <td>1.000000</td>\n",
       "    </tr>\n",
       "    <tr>\n",
       "      <th>25%</th>\n",
       "      <td>2162.000000</td>\n",
       "      <td>2.000000</td>\n",
       "      <td>0.0</td>\n",
       "      <td>4.000000</td>\n",
       "      <td>6.000000</td>\n",
       "      <td>0.000000</td>\n",
       "      <td>1.000000</td>\n",
       "      <td>0.000000</td>\n",
       "      <td>1.000000</td>\n",
       "      <td>0.320000</td>\n",
       "      <td>0.31820</td>\n",
       "      <td>0.490000</td>\n",
       "      <td>0.104500</td>\n",
       "      <td>31.000000</td>\n",
       "    </tr>\n",
       "    <tr>\n",
       "      <th>50%</th>\n",
       "      <td>4323.000000</td>\n",
       "      <td>3.000000</td>\n",
       "      <td>0.0</td>\n",
       "      <td>7.000000</td>\n",
       "      <td>12.000000</td>\n",
       "      <td>0.000000</td>\n",
       "      <td>3.000000</td>\n",
       "      <td>1.000000</td>\n",
       "      <td>1.000000</td>\n",
       "      <td>0.500000</td>\n",
       "      <td>0.48480</td>\n",
       "      <td>0.650000</td>\n",
       "      <td>0.194000</td>\n",
       "      <td>109.000000</td>\n",
       "    </tr>\n",
       "    <tr>\n",
       "      <th>75%</th>\n",
       "      <td>6484.000000</td>\n",
       "      <td>3.000000</td>\n",
       "      <td>0.0</td>\n",
       "      <td>10.000000</td>\n",
       "      <td>18.000000</td>\n",
       "      <td>0.000000</td>\n",
       "      <td>5.000000</td>\n",
       "      <td>1.000000</td>\n",
       "      <td>2.000000</td>\n",
       "      <td>0.660000</td>\n",
       "      <td>0.62120</td>\n",
       "      <td>0.810000</td>\n",
       "      <td>0.283600</td>\n",
       "      <td>211.000000</td>\n",
       "    </tr>\n",
       "    <tr>\n",
       "      <th>max</th>\n",
       "      <td>8645.000000</td>\n",
       "      <td>4.000000</td>\n",
       "      <td>0.0</td>\n",
       "      <td>12.000000</td>\n",
       "      <td>23.000000</td>\n",
       "      <td>1.000000</td>\n",
       "      <td>6.000000</td>\n",
       "      <td>1.000000</td>\n",
       "      <td>4.000000</td>\n",
       "      <td>0.960000</td>\n",
       "      <td>1.00000</td>\n",
       "      <td>1.000000</td>\n",
       "      <td>0.850700</td>\n",
       "      <td>651.000000</td>\n",
       "    </tr>\n",
       "  </tbody>\n",
       "</table>\n",
       "</div>"
      ],
      "text/plain": [
       "                id       season      yr         mnth           hr  \\\n",
       "count  8645.000000  8645.000000  8645.0  8645.000000  8645.000000   \n",
       "mean   4323.000000     2.513592     0.0     6.573973    11.573626   \n",
       "std    2495.740872     1.105477     0.0     3.428147     6.907822   \n",
       "min       1.000000     1.000000     0.0     1.000000     0.000000   \n",
       "25%    2162.000000     2.000000     0.0     4.000000     6.000000   \n",
       "50%    4323.000000     3.000000     0.0     7.000000    12.000000   \n",
       "75%    6484.000000     3.000000     0.0    10.000000    18.000000   \n",
       "max    8645.000000     4.000000     0.0    12.000000    23.000000   \n",
       "\n",
       "           holiday      weekday   workingday   weathersit         temp  \\\n",
       "count  8645.000000  8645.000000  8645.000000  8645.000000  8645.000000   \n",
       "mean      0.027646     3.012724     0.683748     1.437594     0.489069   \n",
       "std       0.163966     2.006370     0.465040     0.653859     0.197943   \n",
       "min       0.000000     0.000000     0.000000     1.000000     0.020000   \n",
       "25%       0.000000     1.000000     0.000000     1.000000     0.320000   \n",
       "50%       0.000000     3.000000     1.000000     1.000000     0.500000   \n",
       "75%       0.000000     5.000000     1.000000     2.000000     0.660000   \n",
       "max       1.000000     6.000000     1.000000     4.000000     0.960000   \n",
       "\n",
       "            atemp          hum    windspeed          cnt  \n",
       "count  8645.00000  8645.000000  8645.000000  8645.000000  \n",
       "mean      0.46900     0.643430     0.191172   143.794448  \n",
       "std       0.17676     0.196293     0.123191   133.797854  \n",
       "min       0.00000     0.000000     0.000000     1.000000  \n",
       "25%       0.31820     0.490000     0.104500    31.000000  \n",
       "50%       0.48480     0.650000     0.194000   109.000000  \n",
       "75%       0.62120     0.810000     0.283600   211.000000  \n",
       "max       1.00000     1.000000     0.850700   651.000000  "
      ]
     },
     "execution_count": 5,
     "metadata": {},
     "output_type": "execute_result"
    }
   ],
   "source": [
    "train.describe()"
   ]
  },
  {
   "cell_type": "code",
   "execution_count": 6,
   "id": "2c69b282",
   "metadata": {},
   "outputs": [
    {
     "data": {
      "text/html": [
       "<div>\n",
       "<style scoped>\n",
       "    .dataframe tbody tr th:only-of-type {\n",
       "        vertical-align: middle;\n",
       "    }\n",
       "\n",
       "    .dataframe tbody tr th {\n",
       "        vertical-align: top;\n",
       "    }\n",
       "\n",
       "    .dataframe thead th {\n",
       "        text-align: right;\n",
       "    }\n",
       "</style>\n",
       "<table border=\"1\" class=\"dataframe\">\n",
       "  <thead>\n",
       "    <tr style=\"text-align: right;\">\n",
       "      <th></th>\n",
       "      <th>mnth</th>\n",
       "      <th>hr</th>\n",
       "      <th>holiday</th>\n",
       "      <th>weekday</th>\n",
       "      <th>workingday</th>\n",
       "      <th>weathersit</th>\n",
       "      <th>temp</th>\n",
       "      <th>atemp</th>\n",
       "      <th>hum</th>\n",
       "      <th>windspeed</th>\n",
       "      <th>cnt</th>\n",
       "    </tr>\n",
       "  </thead>\n",
       "  <tbody>\n",
       "    <tr>\n",
       "      <th>mnth</th>\n",
       "      <td>1.000000</td>\n",
       "      <td>-0.011814</td>\n",
       "      <td>0.029806</td>\n",
       "      <td>0.012024</td>\n",
       "      <td>0.003573</td>\n",
       "      <td>-0.020662</td>\n",
       "      <td>0.260442</td>\n",
       "      <td>0.272676</td>\n",
       "      <td>0.188061</td>\n",
       "      <td>-0.155645</td>\n",
       "      <td>0.179273</td>\n",
       "    </tr>\n",
       "    <tr>\n",
       "      <th>hr</th>\n",
       "      <td>-0.011814</td>\n",
       "      <td>1.000000</td>\n",
       "      <td>-0.000929</td>\n",
       "      <td>-0.005618</td>\n",
       "      <td>0.003792</td>\n",
       "      <td>-0.016521</td>\n",
       "      <td>0.120548</td>\n",
       "      <td>0.116382</td>\n",
       "      <td>-0.251188</td>\n",
       "      <td>0.125153</td>\n",
       "      <td>0.407486</td>\n",
       "    </tr>\n",
       "    <tr>\n",
       "      <th>holiday</th>\n",
       "      <td>0.029806</td>\n",
       "      <td>-0.000929</td>\n",
       "      <td>1.000000</td>\n",
       "      <td>-0.076324</td>\n",
       "      <td>-0.247934</td>\n",
       "      <td>0.008001</td>\n",
       "      <td>-0.020059</td>\n",
       "      <td>-0.026915</td>\n",
       "      <td>-0.022895</td>\n",
       "      <td>0.000502</td>\n",
       "      <td>-0.022912</td>\n",
       "    </tr>\n",
       "    <tr>\n",
       "      <th>weekday</th>\n",
       "      <td>0.012024</td>\n",
       "      <td>-0.005618</td>\n",
       "      <td>-0.076324</td>\n",
       "      <td>1.000000</td>\n",
       "      <td>0.018572</td>\n",
       "      <td>0.027766</td>\n",
       "      <td>-0.038969</td>\n",
       "      <td>-0.042439</td>\n",
       "      <td>-0.051307</td>\n",
       "      <td>0.039586</td>\n",
       "      <td>-0.004321</td>\n",
       "    </tr>\n",
       "    <tr>\n",
       "      <th>workingday</th>\n",
       "      <td>0.003573</td>\n",
       "      <td>0.003792</td>\n",
       "      <td>-0.247934</td>\n",
       "      <td>0.018572</td>\n",
       "      <td>1.000000</td>\n",
       "      <td>0.068628</td>\n",
       "      <td>0.053405</td>\n",
       "      <td>0.052551</td>\n",
       "      <td>0.025305</td>\n",
       "      <td>0.010509</td>\n",
       "      <td>0.011704</td>\n",
       "    </tr>\n",
       "    <tr>\n",
       "      <th>weathersit</th>\n",
       "      <td>-0.020662</td>\n",
       "      <td>-0.016521</td>\n",
       "      <td>0.008001</td>\n",
       "      <td>0.027766</td>\n",
       "      <td>0.068628</td>\n",
       "      <td>1.000000</td>\n",
       "      <td>-0.092036</td>\n",
       "      <td>-0.096556</td>\n",
       "      <td>0.407634</td>\n",
       "      <td>0.048414</td>\n",
       "      <td>-0.143288</td>\n",
       "    </tr>\n",
       "    <tr>\n",
       "      <th>temp</th>\n",
       "      <td>0.260442</td>\n",
       "      <td>0.120548</td>\n",
       "      <td>-0.020059</td>\n",
       "      <td>-0.038969</td>\n",
       "      <td>0.053405</td>\n",
       "      <td>-0.092036</td>\n",
       "      <td>1.000000</td>\n",
       "      <td>0.992022</td>\n",
       "      <td>-0.039525</td>\n",
       "      <td>-0.005989</td>\n",
       "      <td>0.451233</td>\n",
       "    </tr>\n",
       "    <tr>\n",
       "      <th>atemp</th>\n",
       "      <td>0.272676</td>\n",
       "      <td>0.116382</td>\n",
       "      <td>-0.026915</td>\n",
       "      <td>-0.042439</td>\n",
       "      <td>0.052551</td>\n",
       "      <td>-0.096556</td>\n",
       "      <td>0.992022</td>\n",
       "      <td>1.000000</td>\n",
       "      <td>-0.023541</td>\n",
       "      <td>-0.046120</td>\n",
       "      <td>0.447029</td>\n",
       "    </tr>\n",
       "    <tr>\n",
       "      <th>hum</th>\n",
       "      <td>0.188061</td>\n",
       "      <td>-0.251188</td>\n",
       "      <td>-0.022895</td>\n",
       "      <td>-0.051307</td>\n",
       "      <td>0.025305</td>\n",
       "      <td>0.407634</td>\n",
       "      <td>-0.039525</td>\n",
       "      <td>-0.023541</td>\n",
       "      <td>1.000000</td>\n",
       "      <td>-0.263196</td>\n",
       "      <td>-0.288615</td>\n",
       "    </tr>\n",
       "    <tr>\n",
       "      <th>windspeed</th>\n",
       "      <td>-0.155645</td>\n",
       "      <td>0.125153</td>\n",
       "      <td>0.000502</td>\n",
       "      <td>0.039586</td>\n",
       "      <td>0.010509</td>\n",
       "      <td>0.048414</td>\n",
       "      <td>-0.005989</td>\n",
       "      <td>-0.046120</td>\n",
       "      <td>-0.263196</td>\n",
       "      <td>1.000000</td>\n",
       "      <td>0.085356</td>\n",
       "    </tr>\n",
       "    <tr>\n",
       "      <th>cnt</th>\n",
       "      <td>0.179273</td>\n",
       "      <td>0.407486</td>\n",
       "      <td>-0.022912</td>\n",
       "      <td>-0.004321</td>\n",
       "      <td>0.011704</td>\n",
       "      <td>-0.143288</td>\n",
       "      <td>0.451233</td>\n",
       "      <td>0.447029</td>\n",
       "      <td>-0.288615</td>\n",
       "      <td>0.085356</td>\n",
       "      <td>1.000000</td>\n",
       "    </tr>\n",
       "  </tbody>\n",
       "</table>\n",
       "</div>"
      ],
      "text/plain": [
       "                mnth        hr   holiday   weekday  workingday  weathersit  \\\n",
       "mnth        1.000000 -0.011814  0.029806  0.012024    0.003573   -0.020662   \n",
       "hr         -0.011814  1.000000 -0.000929 -0.005618    0.003792   -0.016521   \n",
       "holiday     0.029806 -0.000929  1.000000 -0.076324   -0.247934    0.008001   \n",
       "weekday     0.012024 -0.005618 -0.076324  1.000000    0.018572    0.027766   \n",
       "workingday  0.003573  0.003792 -0.247934  0.018572    1.000000    0.068628   \n",
       "weathersit -0.020662 -0.016521  0.008001  0.027766    0.068628    1.000000   \n",
       "temp        0.260442  0.120548 -0.020059 -0.038969    0.053405   -0.092036   \n",
       "atemp       0.272676  0.116382 -0.026915 -0.042439    0.052551   -0.096556   \n",
       "hum         0.188061 -0.251188 -0.022895 -0.051307    0.025305    0.407634   \n",
       "windspeed  -0.155645  0.125153  0.000502  0.039586    0.010509    0.048414   \n",
       "cnt         0.179273  0.407486 -0.022912 -0.004321    0.011704   -0.143288   \n",
       "\n",
       "                temp     atemp       hum  windspeed       cnt  \n",
       "mnth        0.260442  0.272676  0.188061  -0.155645  0.179273  \n",
       "hr          0.120548  0.116382 -0.251188   0.125153  0.407486  \n",
       "holiday    -0.020059 -0.026915 -0.022895   0.000502 -0.022912  \n",
       "weekday    -0.038969 -0.042439 -0.051307   0.039586 -0.004321  \n",
       "workingday  0.053405  0.052551  0.025305   0.010509  0.011704  \n",
       "weathersit -0.092036 -0.096556  0.407634   0.048414 -0.143288  \n",
       "temp        1.000000  0.992022 -0.039525  -0.005989  0.451233  \n",
       "atemp       0.992022  1.000000 -0.023541  -0.046120  0.447029  \n",
       "hum        -0.039525 -0.023541  1.000000  -0.263196 -0.288615  \n",
       "windspeed  -0.005989 -0.046120 -0.263196   1.000000  0.085356  \n",
       "cnt         0.451233  0.447029 -0.288615   0.085356  1.000000  "
      ]
     },
     "execution_count": 6,
     "metadata": {},
     "output_type": "execute_result"
    }
   ],
   "source": [
    "train.iloc[:,4:].corr()"
   ]
  },
  {
   "cell_type": "code",
   "execution_count": 7,
   "id": "81fd97b9",
   "metadata": {},
   "outputs": [],
   "source": [
    "import seaborn as sns"
   ]
  },
  {
   "cell_type": "code",
   "execution_count": 8,
   "id": "0391cb61",
   "metadata": {},
   "outputs": [
    {
     "data": {
      "text/plain": [
       "<AxesSubplot:>"
      ]
     },
     "execution_count": 8,
     "metadata": {},
     "output_type": "execute_result"
    },
    {
     "data": {
      "image/png": "[encoded data removed]",
      "text/plain": [
       "<Figure size 432x288 with 2 Axes>"
      ]
     },
     "metadata": {
      "needs_background": "light"
     },
     "output_type": "display_data"
    }
   ],
   "source": [
    "sns.heatmap(train.iloc[:,4:].corr())"
   ]
  },
  {
   "cell_type": "code",
   "execution_count": 10,
   "id": "ae2d0d60",
   "metadata": {},
   "outputs": [],
   "source": [
    "from sklearn.metrics import mean_squared_error as MSE\n",
    "from sklearn.linear_model import LinearRegression as LR\n",
    "from sklearn.ensemble import RandomForestRegressor as RF\n",
    "\n",
    "from sklearn.model_selection import GridSearchCV\n",
    "import pydotplus"
   ]
  },
  {
   "cell_type": "code",
   "execution_count": 13,
   "id": "c770d630",
   "metadata": {
    "scrolled": true
   },
   "outputs": [
    {
     "data": {
      "text/plain": [
       "Index(['id', 'dteday', 'season', 'yr', 'mnth', 'hr', 'holiday', 'weekday',\n",
       "       'workingday', 'weathersit', 'temp', 'atemp', 'hum', 'windspeed', 'cnt',\n",
       "       't'],\n",
       "      dtype='object')"
      ]
     },
     "execution_count": 13,
     "metadata": {},
     "output_type": "execute_result"
    }
   ],
   "source": [
    "train.columns"
   ]
  },
  {
   "cell_type": "code",
   "execution_count": 14,
   "id": "57628f92",
   "metadata": {},
   "outputs": [
    {
     "data": {
      "text/plain": [
       "(8645, 16)"
      ]
     },
     "execution_count": 14,
     "metadata": {},
     "output_type": "execute_result"
    }
   ],
   "source": [
    "train.shape"
   ]
  },
  {
   "cell_type": "code",
   "execution_count": 81,
   "id": "3586f767",
   "metadata": {},
   "outputs": [],
   "source": [
    "trainX = train.iloc[:, 2:14]\n",
    "#trainX = train[['season', 'mnth', 'hr', 'holiday', 'weekday','workingday', 'weathersit', 'temp', 'atemp', 'hum', 'windspeed']]\n",
    "#trainX = train[['season', 'mnth', 'hr', 'weathersit', 'temp', 'atemp', 'hum']]\n",
    "y = train[\"cnt\"]"
   ]
  },
  {
   "cell_type": "code",
   "execution_count": 82,
   "id": "c587e134",
   "metadata": {},
   "outputs": [],
   "source": [
    "rfr = RF()"
   ]
  },
  {
   "cell_type": "code",
   "execution_count": 83,
   "id": "c1d0494e",
   "metadata": {},
   "outputs": [],
   "source": [
    "parameters = {\"n_estimators\": list(range(80,120)), \"max_depth\": list(range(3,8))}"
   ]
  },
  {
   "cell_type": "code",
   "execution_count": 85,
   "id": "d0fde9c2",
   "metadata": {},
   "outputs": [
    {
     "data": {
      "text/plain": [
       "GridSearchCV(cv=5, estimator=RandomForestRegressor(), n_jobs=-1,\n",
       "             param_grid={'max_depth': [3, 4, 5, 6, 7],\n",
       "                         'n_estimators': [80, 81, 82, 83, 84, 85, 86, 87, 88,\n",
       "                                          89, 90, 91, 92, 93, 94, 95, 96, 97,\n",
       "                                          98, 99, 100, 101, 102, 103, 104, 105,\n",
       "                                          106, 107, 108, 109, ...]},\n",
       "             return_train_score=True, scoring='neg_root_mean_squared_error')"
      ]
     },
     "execution_count": 85,
     "metadata": {},
     "output_type": "execute_result"
    }
   ],
   "source": [
    "#gcv = GridSearchCV(rfr, parameters, cv=5, scoring=\"neg_mean_squared_error\", n_jobs=-1, return_train_score=True)\n",
    "gcv = GridSearchCV(rfr, parameters, cv=5, scoring=\"neg_root_mean_squared_error\", n_jobs=-1, return_train_score=True)\n",
    "gcv.fit(trainX, y)"
   ]
  },
  {
   "cell_type": "code",
   "execution_count": 86,
   "id": "d11e7fd0",
   "metadata": {},
   "outputs": [
    {
     "data": {
      "text/plain": [
       "{'max_depth': 7, 'n_estimators': 101}"
      ]
     },
     "execution_count": 86,
     "metadata": {},
     "output_type": "execute_result"
    }
   ],
   "source": [
    "gcv.best_params_"
   ]
  },
  {
   "cell_type": "code",
   "execution_count": 87,
   "id": "dfd1865a",
   "metadata": {
    "scrolled": true
   },
   "outputs": [],
   "source": [
    "pred_train = gcv.predict(trainX)"
   ]
  },
  {
   "cell_type": "code",
   "execution_count": 88,
   "id": "7dd4ec23",
   "metadata": {
    "scrolled": true
   },
   "outputs": [
    {
     "name": "stdout",
     "output_type": "stream",
     "text": [
      "RMSE 51.132761302614455\n"
     ]
    }
   ],
   "source": [
    "from sklearn.metrics import mean_squared_error as MSE\n",
    "print(\"RMSE\",MSE(train[\"cnt\"],pred_train)**0.5)"
   ]
  },
  {
   "cell_type": "code",
   "execution_count": 89,
   "id": "bbde9f6b",
   "metadata": {},
   "outputs": [],
   "source": [
    "testX = test.iloc[:, 2:14]\n",
    "#testX = test[['season', 'mnth', 'hr', 'holiday', 'weekday','workingday', 'weathersit', 'temp', 'atemp', 'hum', 'windspeed']]\n",
    "#testX = test[['season', 'mnth', 'hr', 'weathersit', 'temp', 'atemp', 'hum']]"
   ]
  },
  {
   "cell_type": "code",
   "execution_count": 91,
   "id": "bde16539",
   "metadata": {},
   "outputs": [],
   "source": [
    "pred_test = gcv.predict(testX)"
   ]
  },
  {
   "cell_type": "code",
   "execution_count": 92,
   "id": "744a84c0",
   "metadata": {
    "scrolled": true
   },
   "outputs": [
    {
     "data": {
      "text/plain": [
       "array([36.93022599, 28.66122106, 19.59670559, ..., 63.51172985,\n",
       "       37.89054412, 32.95600463])"
      ]
     },
     "execution_count": 92,
     "metadata": {},
     "output_type": "execute_result"
    }
   ],
   "source": [
    "pred_test"
   ]
  },
  {
   "cell_type": "code",
   "execution_count": 93,
   "id": "478049aa",
   "metadata": {},
   "outputs": [],
   "source": [
    "sample[1] = pred_test"
   ]
  },
  {
   "cell_type": "code",
   "execution_count": 94,
   "id": "7c670d14",
   "metadata": {},
   "outputs": [],
   "source": [
    "sample.to_csv(\"submit01.csv\", header=None, index=None)"
   ]
  },
  {
   "cell_type": "markdown",
   "id": "e1479c3a",
   "metadata": {},
   "source": [
    "提出した結果は139とtrainとの結果と乖離が大きい"
   ]
  },
  {
   "cell_type": "code",
   "execution_count": null,
   "id": "cdff3baa",
   "metadata": {},
   "outputs": [],
   "source": []
  },
  {
   "cell_type": "markdown",
   "id": "5965a9a8",
   "metadata": {},
   "source": [
    "# Appendix"
   ]
  },
  {
   "cell_type": "code",
   "execution_count": 55,
   "id": "03ee47ec",
   "metadata": {
    "scrolled": true
   },
   "outputs": [
    {
     "data": {
      "image/png": "[encoded data removed]",
      "text/plain": [
       "<Figure size 1080x288 with 1 Axes>"
      ]
     },
     "metadata": {
      "needs_background": "light"
     },
     "output_type": "display_data"
    }
   ],
   "source": [
    "train.index = pd.to_datetime(train[\"dteday\"])\n",
    "train[\"cnt\"].plot(figsize=(15,4),grid=True)\n",
    "train = train.reset_index(drop=True)"
   ]
  },
  {
   "cell_type": "code",
   "execution_count": null,
   "id": "ee92bf97",
   "metadata": {},
   "outputs": [],
   "source": []
  }
 ],
 "metadata": {
  "kernelspec": {
   "display_name": "Python 3",
   "language": "python",
   "name": "python3"
  },
  "language_info": {
   "codemirror_mode": {
    "name": "ipython",
    "version": 3
   },
   "file_extension": ".py",
   "mimetype": "text/x-python",
   "name": "python",
   "nbconvert_exporter": "python",
   "pygments_lexer": "ipython3",
   "version": "3.8.8"
  }
 },
 "nbformat": 4,
 "nbformat_minor": 5
}
