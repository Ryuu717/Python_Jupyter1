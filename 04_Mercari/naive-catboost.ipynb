{
 "cells": [
  {
   "cell_type": "markdown",
   "metadata": {
    "_cell_guid": "722432fc-69c1-434f-bd5d-1af6fa1945de",
    "_uuid": "a310d0c74ea89b076e00d89264dd66906dc589aa"
   },
   "source": [
    "In this simple notebook, we will use CatBoost to predict the price using only categorical features."
   ]
  },
  {
   "cell_type": "code",
   "execution_count": 3,
   "metadata": {
    "_cell_guid": "6b7a283b-2e58-4359-a268-060abdcba95e",
    "_uuid": "f45bc2bed9e9205110da41317e609416cd8cd271"
   },
   "outputs": [],
   "source": [
    "import numpy as np\n",
    "import pandas as pd\n",
    "import matplotlib.pyplot as plt\n",
    "import catboost as cboost\n",
    "\n",
    "%matplotlib inline"
   ]
  },
  {
   "cell_type": "code",
   "execution_count": 4,
   "metadata": {
    "_cell_guid": "fbe7f63f-06e6-4ce9-a487-83bdaaad584d",
    "_uuid": "f81461a72863f381e7a4d5214517115f9764ff6d"
   },
   "outputs": [],
   "source": [
    "df_train = pd.read_csv('train.tsv', sep='\\t', index_col='train_id')\n",
    "df_test = pd.read_csv('test.tsv', sep='\\t', index_col='test_id')"
   ]
  },
  {
   "cell_type": "code",
   "execution_count": 5,
   "metadata": {
    "_cell_guid": "46d26b76-dd28-4e3f-8492-f57d49280672",
    "_uuid": "6be81d2685f31c81b78d1a90666371a76fc7bdc0"
   },
   "outputs": [
    {
     "data": {
      "text/html": [
       "<div>\n",
       "<style scoped>\n",
       "    .dataframe tbody tr th:only-of-type {\n",
       "        vertical-align: middle;\n",
       "    }\n",
       "\n",
       "    .dataframe tbody tr th {\n",
       "        vertical-align: top;\n",
       "    }\n",
       "\n",
       "    .dataframe thead th {\n",
       "        text-align: right;\n",
       "    }\n",
       "</style>\n",
       "<table border=\"1\" class=\"dataframe\">\n",
       "  <thead>\n",
       "    <tr style=\"text-align: right;\">\n",
       "      <th></th>\n",
       "      <th>name</th>\n",
       "      <th>item_condition_id</th>\n",
       "      <th>category_name</th>\n",
       "      <th>brand_name</th>\n",
       "      <th>price</th>\n",
       "      <th>shipping</th>\n",
       "      <th>item_description</th>\n",
       "    </tr>\n",
       "    <tr>\n",
       "      <th>train_id</th>\n",
       "      <th></th>\n",
       "      <th></th>\n",
       "      <th></th>\n",
       "      <th></th>\n",
       "      <th></th>\n",
       "      <th></th>\n",
       "      <th></th>\n",
       "    </tr>\n",
       "  </thead>\n",
       "  <tbody>\n",
       "    <tr>\n",
       "      <th>777341</th>\n",
       "      <td>F/ship 4 Totoro Washi + 1 pen</td>\n",
       "      <td>1</td>\n",
       "      <td>Handmade/Paper Goods/Stationery</td>\n",
       "      <td>NaN</td>\n",
       "      <td>12.0</td>\n",
       "      <td>1</td>\n",
       "      <td>This listing is for all 4 Totoro washi tape fo...</td>\n",
       "    </tr>\n",
       "    <tr>\n",
       "      <th>1463629</th>\n",
       "      <td>UCLA Men's Bundle + Shorts</td>\n",
       "      <td>1</td>\n",
       "      <td>Women/Other/Other</td>\n",
       "      <td>Adidas</td>\n",
       "      <td>76.0</td>\n",
       "      <td>1</td>\n",
       "      <td>7 items. 1: XL. 2: 2XL. 3:2XL. 4: XL. 5: 2XL. ...</td>\n",
       "    </tr>\n",
       "    <tr>\n",
       "      <th>350669</th>\n",
       "      <td>Listing for lol</td>\n",
       "      <td>1</td>\n",
       "      <td>Beauty/Makeup/Lips</td>\n",
       "      <td>NaN</td>\n",
       "      <td>12.0</td>\n",
       "      <td>1</td>\n",
       "      <td>- sunglasses and necklace :)</td>\n",
       "    </tr>\n",
       "    <tr>\n",
       "      <th>310222</th>\n",
       "      <td>25 pcs kawaii sticker flakes</td>\n",
       "      <td>1</td>\n",
       "      <td>Kids/Toys/Arts &amp; Crafts</td>\n",
       "      <td>NaN</td>\n",
       "      <td>3.0</td>\n",
       "      <td>1</td>\n",
       "      <td>I ordered a bunch of stickers so you will reci...</td>\n",
       "    </tr>\n",
       "    <tr>\n",
       "      <th>759257</th>\n",
       "      <td>Chanel Mini Lipgloss Set</td>\n",
       "      <td>2</td>\n",
       "      <td>Beauty/Makeup/Lips</td>\n",
       "      <td>Chanel</td>\n",
       "      <td>30.0</td>\n",
       "      <td>1</td>\n",
       "      <td>Brand new never used authentic Mini Lipgloss g...</td>\n",
       "    </tr>\n",
       "    <tr>\n",
       "      <th>288846</th>\n",
       "      <td>Maroon Foamposites</td>\n",
       "      <td>3</td>\n",
       "      <td>Men/Shoes/Fashion Sneakers</td>\n",
       "      <td>Nike</td>\n",
       "      <td>225.0</td>\n",
       "      <td>1</td>\n",
       "      <td>9/10 Condition N Sz 12</td>\n",
       "    </tr>\n",
       "    <tr>\n",
       "      <th>1178450</th>\n",
       "      <td>INC studdedHeart Black Blouse Dolman</td>\n",
       "      <td>2</td>\n",
       "      <td>Women/Tops &amp; Blouses/Blouse</td>\n",
       "      <td>INC International Concepts</td>\n",
       "      <td>16.0</td>\n",
       "      <td>1</td>\n",
       "      <td>New without tags INC International Concepts Sh...</td>\n",
       "    </tr>\n",
       "    <tr>\n",
       "      <th>726296</th>\n",
       "      <td>Leggo silicone molds</td>\n",
       "      <td>3</td>\n",
       "      <td>Home/Kitchen &amp; Dining/Bakeware</td>\n",
       "      <td>NaN</td>\n",
       "      <td>12.0</td>\n",
       "      <td>0</td>\n",
       "      <td>I used these for my son's leggo birthday party...</td>\n",
       "    </tr>\n",
       "    <tr>\n",
       "      <th>840510</th>\n",
       "      <td>Supreme Uzi Chain</td>\n",
       "      <td>1</td>\n",
       "      <td>Handmade/Accessories/Men</td>\n",
       "      <td>NaN</td>\n",
       "      <td>15.0</td>\n",
       "      <td>1</td>\n",
       "      <td>10/10 New</td>\n",
       "    </tr>\n",
       "    <tr>\n",
       "      <th>1473033</th>\n",
       "      <td>Women Gold Palm Pendant Necklace FC</td>\n",
       "      <td>1</td>\n",
       "      <td>Vintage &amp; Collectibles/Jewelry/Necklace</td>\n",
       "      <td>NaN</td>\n",
       "      <td>17.0</td>\n",
       "      <td>1</td>\n",
       "      <td>High quality Immediate purchase Ok? Free shipp...</td>\n",
       "    </tr>\n",
       "  </tbody>\n",
       "</table>\n",
       "</div>"
      ],
      "text/plain": [
       "                                          name  item_condition_id  \\\n",
       "train_id                                                            \n",
       "777341           F/ship 4 Totoro Washi + 1 pen                  1   \n",
       "1463629             UCLA Men's Bundle + Shorts                  1   \n",
       "350669                         Listing for lol                  1   \n",
       "310222            25 pcs kawaii sticker flakes                  1   \n",
       "759257                Chanel Mini Lipgloss Set                  2   \n",
       "288846                      Maroon Foamposites                  3   \n",
       "1178450   INC studdedHeart Black Blouse Dolman                  2   \n",
       "726296                    Leggo silicone molds                  3   \n",
       "840510                       Supreme Uzi Chain                  1   \n",
       "1473033    Women Gold Palm Pendant Necklace FC                  1   \n",
       "\n",
       "                                    category_name                  brand_name  \\\n",
       "train_id                                                                        \n",
       "777341            Handmade/Paper Goods/Stationery                         NaN   \n",
       "1463629                         Women/Other/Other                      Adidas   \n",
       "350669                         Beauty/Makeup/Lips                         NaN   \n",
       "310222                    Kids/Toys/Arts & Crafts                         NaN   \n",
       "759257                         Beauty/Makeup/Lips                      Chanel   \n",
       "288846                 Men/Shoes/Fashion Sneakers                        Nike   \n",
       "1178450               Women/Tops & Blouses/Blouse  INC International Concepts   \n",
       "726296             Home/Kitchen & Dining/Bakeware                         NaN   \n",
       "840510                   Handmade/Accessories/Men                         NaN   \n",
       "1473033   Vintage & Collectibles/Jewelry/Necklace                         NaN   \n",
       "\n",
       "          price  shipping                                   item_description  \n",
       "train_id                                                                      \n",
       "777341     12.0         1  This listing is for all 4 Totoro washi tape fo...  \n",
       "1463629    76.0         1  7 items. 1: XL. 2: 2XL. 3:2XL. 4: XL. 5: 2XL. ...  \n",
       "350669     12.0         1                       - sunglasses and necklace :)  \n",
       "310222      3.0         1  I ordered a bunch of stickers so you will reci...  \n",
       "759257     30.0         1  Brand new never used authentic Mini Lipgloss g...  \n",
       "288846    225.0         1                             9/10 Condition N Sz 12  \n",
       "1178450    16.0         1  New without tags INC International Concepts Sh...  \n",
       "726296     12.0         0  I used these for my son's leggo birthday party...  \n",
       "840510     15.0         1                                          10/10 New  \n",
       "1473033    17.0         1  High quality Immediate purchase Ok? Free shipp...  "
      ]
     },
     "execution_count": 5,
     "metadata": {},
     "output_type": "execute_result"
    }
   ],
   "source": [
    "# Sneak peek on data\n",
    "df_train.sample(10, random_state=42)"
   ]
  },
  {
   "cell_type": "code",
   "execution_count": 6,
   "metadata": {
    "_cell_guid": "b1c2dffd-d598-4341-ad92-e57dd0bc7184",
    "_uuid": "781ff9b81f0cad421d22923f2951ebde7dfa8edf"
   },
   "outputs": [
    {
     "data": {
      "image/png": "[encoded data removed]",
      "text/plain": [
       "<Figure size 432x288 with 1 Axes>"
      ]
     },
     "metadata": {
      "needs_background": "light"
     },
     "output_type": "display_data"
    }
   ],
   "source": [
    "# Log price distribution\n",
    "(df_train.price + 1).apply(np.log10).hist(bins=50);"
   ]
  },
  {
   "cell_type": "code",
   "execution_count": 7,
   "metadata": {
    "_cell_guid": "5eb686f2-71e2-4bc3-bf54-4a87e0c0452e",
    "_uuid": "5c37272462ad5646019c2b552f7b90eb2a2aa22e"
   },
   "outputs": [],
   "source": [
    "# We only use categorical features in this naive approach\n",
    "categorical_features = ['item_condition_id', 'category_name', 'brand_name', 'shipping']\n",
    "\n",
    "df_x_train = df_train[categorical_features].copy()\n",
    "df_x_test = df_test[categorical_features].copy()\n",
    "df_y_log = np.log(df_train['price']+1)"
   ]
  },
  {
   "cell_type": "code",
   "execution_count": 8,
   "metadata": {
    "_cell_guid": "72e0fde2-7589-4b89-9f87-a1cf449a53c1",
    "_uuid": "c80af3094ea9aca35b9dd7913b2445ae3c715e0e"
   },
   "outputs": [],
   "source": [
    "# Factorize both train and test (avoid unseen categories in train)\n",
    "# def factorize(train, test, col, min_count):\n",
    "#     cat_ids = sorted(set(train[col].dropna().unique()) | set(test[col].dropna().unique()))\n",
    "\n",
    "#     cat_ids = {k:i for i, k in enumerate(cat_ids)}\n",
    "#     cat_ids[np.nan] = -1\n",
    "\n",
    "#     train[col] = train[col].map(cat_ids)\n",
    "#     test[col]  = test[col].map(cat_ids)\n",
    "def factorize(train, test, col, min_count):\n",
    "    train_cat_count = train[col].value_counts()\n",
    "    test_cat_count = test[col].value_counts()\n",
    "    \n",
    "    train_cat = set(train_cat_count[(train_cat_count >= min_count)].index)\n",
    "\n",
    "    cat_ids = {k:i for i, k in enumerate(sorted(train_cat))}\n",
    "    cat_ids[np.nan] = -1\n",
    "    \n",
    "    train[col] = train[col].map(cat_ids)\n",
    "    train[col] = train[col].fillna(len(cat_ids))  # Create 'other' category\n",
    "\n",
    "    test[col] = test[col].map(cat_ids)\n",
    "    test[col] = test[col].fillna(len(cat_ids))\n",
    "\n",
    "# Factorize string columns\n",
    "factorize(df_x_train, df_x_test, 'category_name', min_count=50)\n",
    "factorize(df_x_train, df_x_test, 'brand_name', min_count=50)"
   ]
  },
  {
   "cell_type": "code",
   "execution_count": 9,
   "metadata": {},
   "outputs": [
    {
     "data": {
      "text/plain": [
       "item_condition_id      5\n",
       "category_name        705\n",
       "brand_name           814\n",
       "shipping               2\n",
       "dtype: int64"
      ]
     },
     "execution_count": 9,
     "metadata": {},
     "output_type": "execute_result"
    }
   ],
   "source": [
    "df_x_train.nunique()"
   ]
  },
  {
   "cell_type": "code",
   "execution_count": 11,
   "metadata": {
    "_cell_guid": "3bddeeec-b2d4-4a91-beeb-9a335355dfac",
    "_uuid": "7e57b7393a23614a4464b153101c52b53247d0d7"
   },
   "outputs": [
    {
     "ename": "CatBoostError",
     "evalue": "data should be the string or pathlib.Path type if column_description parameter is specified.",
     "output_type": "error",
     "traceback": [
      "\u001b[0;31m---------------------------------------------------------------------------\u001b[0m",
      "\u001b[0;31mCatBoostError\u001b[0m                             Traceback (most recent call last)",
      "\u001b[0;32m<ipython-input-11-db44d5f6c32e>\u001b[0m in \u001b[0;36m<module>\u001b[0;34m\u001b[0m\n\u001b[1;32m      1\u001b[0m \u001b[0;31m# Create train and test Pool of train\u001b[0m\u001b[0;34m\u001b[0m\u001b[0;34m\u001b[0m\u001b[0;34m\u001b[0m\u001b[0m\n\u001b[0;32m----> 2\u001b[0;31m ptrain = cboost.Pool(df_x_train, df_y_log, cat_features=np.arange(len(categorical_features)),\n\u001b[0m\u001b[1;32m      3\u001b[0m                      column_description=categorical_features)\n\u001b[1;32m      4\u001b[0m \u001b[0;34m\u001b[0m\u001b[0m\n\u001b[1;32m      5\u001b[0m ptest = cboost.Pool(df_x_test, cat_features=np.arange(len(categorical_features)),\n",
      "\u001b[0;32m/opt/anaconda3/lib/python3.8/site-packages/catboost/core.py\u001b[0m in \u001b[0;36m__init__\u001b[0;34m(self, data, label, cat_features, text_features, embedding_features, column_description, pairs, delimiter, has_header, ignore_csv_quoting, weight, group_id, group_weight, subgroup_id, pairs_weight, baseline, feature_names, thread_count, log_cout, log_cerr)\u001b[0m\n\u001b[1;32m    557\u001b[0m                 \u001b[0;32mraise\u001b[0m \u001b[0mCatBoostError\u001b[0m\u001b[0;34m(\u001b[0m\u001b[0;34m\"data and pairs parameters should be the same types.\"\u001b[0m\u001b[0;34m)\u001b[0m\u001b[0;34m\u001b[0m\u001b[0;34m\u001b[0m\u001b[0m\n\u001b[1;32m    558\u001b[0m             \u001b[0;32mif\u001b[0m \u001b[0mcolumn_description\u001b[0m \u001b[0;32mis\u001b[0m \u001b[0;32mnot\u001b[0m \u001b[0;32mNone\u001b[0m \u001b[0;32mand\u001b[0m \u001b[0;32mnot\u001b[0m \u001b[0misinstance\u001b[0m\u001b[0;34m(\u001b[0m\u001b[0mdata\u001b[0m\u001b[0;34m,\u001b[0m \u001b[0mPATH_TYPES\u001b[0m\u001b[0;34m)\u001b[0m\u001b[0;34m:\u001b[0m\u001b[0;34m\u001b[0m\u001b[0;34m\u001b[0m\u001b[0m\n\u001b[0;32m--> 559\u001b[0;31m                 \u001b[0;32mraise\u001b[0m \u001b[0mCatBoostError\u001b[0m\u001b[0;34m(\u001b[0m\u001b[0;34m\"data should be the string or pathlib.Path type if column_description parameter is specified.\"\u001b[0m\u001b[0;34m)\u001b[0m\u001b[0;34m\u001b[0m\u001b[0;34m\u001b[0m\u001b[0m\n\u001b[0m\u001b[1;32m    560\u001b[0m             \u001b[0;32mif\u001b[0m \u001b[0misinstance\u001b[0m\u001b[0;34m(\u001b[0m\u001b[0mdata\u001b[0m\u001b[0;34m,\u001b[0m \u001b[0mPATH_TYPES\u001b[0m\u001b[0;34m)\u001b[0m\u001b[0;34m:\u001b[0m\u001b[0;34m\u001b[0m\u001b[0;34m\u001b[0m\u001b[0m\n\u001b[1;32m    561\u001b[0m                 if any(v is not None for v in [cat_features, text_features, embedding_features, weight, group_id, group_weight,\n",
      "\u001b[0;31mCatBoostError\u001b[0m: data should be the string or pathlib.Path type if column_description parameter is specified."
     ]
    }
   ],
   "source": [
    "# Create train and test Pool of train\n",
    "ptrain = cboost.Pool(df_x_train, df_y_log, cat_features=np.arange(len(categorical_features)),\n",
    "                     column_description=categorical_features)\n",
    "\n",
    "ptest = cboost.Pool(df_x_test, cat_features=np.arange(len(categorical_features)),\n",
    "                     column_description=categorical_features)\n",
    "\n",
    "# Add subsample of train for cross-validation speed\n",
    "# sub_idx = np.random.choice(len(df_x_train), int(len(df_x_train) * 0.5), replace=False)\n",
    "# ptrain_sub = cboost.Pool(df_x_train.iloc[sub_idx], df_y_log.iloc[sub_idx],\n",
    "#                      cat_features=np.arange(len(categorical_features)),\n",
    "#                      column_description=categorical_features)"
   ]
  },
  {
   "cell_type": "code",
   "execution_count": null,
   "metadata": {},
   "outputs": [],
   "source": [
    "# Tune your parameters here!\n",
    "cboost_params = {\n",
    "    'nan_mode': 'Min',\n",
    "    'loss_function': 'RMSE',  # Try 'LogLinQuantile' as well\n",
    "    'iterations': 200,\n",
    "    'learning_rate': 1.0,\n",
    "    'depth': 11,\n",
    "    'verbose': True\n",
    "}\n",
    "\n",
    "best_iter = cboost_params['iterations']  # Initial 'guess' it not using CV\n",
    "\n",
    "# cv_result = cboost.cv(cboost_params, ptrain_sub, fold_count=3)\n",
    "\n",
    "# df_cv_result = pd.DataFrame({'train': cv_result['RMSE_train_avg'],\n",
    "#                              'valid': cv_result['RMSE_test_avg']})\n",
    "\n",
    "# # Best results\n",
    "# print('Best results:')\n",
    "# best_iter = df_cv_result.valid.argmin()+1\n",
    "# df_cv_bestresult = df_cv_result.iloc[best_iter-1]\n",
    "# print(df_cv_bestresult)\n",
    "\n",
    "# fig, ax = plt.subplots(1, 2, figsize=(15, 6))\n",
    "# df_cv_result.plot(ax=ax[0])\n",
    "\n",
    "# ax[1].plot(df_cv_result.train, df_cv_result.valid, 'o-')\n",
    "# ax[1].scatter([df_cv_bestresult['train']], [df_cv_bestresult['valid']], c='red')\n",
    "# ax[1].set_xlabel('train')\n",
    "# ax[1].set_ylabel('valid')"
   ]
  },
  {
   "cell_type": "code",
   "execution_count": null,
   "metadata": {
    "_cell_guid": "3ded0fe6-e4a0-4f7d-bb18-aa4a675dfff7",
    "_uuid": "d752d3776f02dcd4bac7a7a8083b7e94dd4b39ea"
   },
   "outputs": [],
   "source": [
    "# Train model on full data\n",
    "model = cboost.CatBoostRegressor(**dict(cboost_params, verbose=False, iterations=best_iter))\n",
    "\n",
    "fit_model = model.fit(ptrain)"
   ]
  },
  {
   "cell_type": "code",
   "execution_count": null,
   "metadata": {
    "_cell_guid": "b26427ac-3910-46b3-a69f-92439eb5915d",
    "_uuid": "c62c85b578b555883434834ddd45843d5bcaab1c"
   },
   "outputs": [],
   "source": [
    "# Predict test and save to .csv\n",
    "df_test['price_log'] = fit_model.predict(ptest).clip(0)  # Avoid negative prices\n",
    "\n",
    "df_test['price'] = np.exp(df_test['price_log'])-1\n",
    "\n",
    "df_test[['price']].round(5).to_csv('submission.csv', index=True)"
   ]
  },
  {
   "cell_type": "code",
   "execution_count": null,
   "metadata": {
    "_cell_guid": "fa9f74ae-ce84-4929-939d-a5e4d0f9c628",
    "_uuid": "381489c655f110e6c0d911d4614fe765f56619f4"
   },
   "outputs": [],
   "source": [
    "!head submission.csv"
   ]
  }
 ],
 "metadata": {
  "kernelspec": {
   "display_name": "Python 3 (ipykernel)",
   "language": "python",
   "name": "python3"
  },
  "language_info": {
   "codemirror_mode": {
    "name": "ipython",
    "version": 3
   },
   "file_extension": ".py",
   "mimetype": "text/x-python",
   "name": "python",
   "nbconvert_exporter": "python",
   "pygments_lexer": "ipython3",
   "version": "3.9.7"
  }
 },
 "nbformat": 4,
 "nbformat_minor": 1
}
