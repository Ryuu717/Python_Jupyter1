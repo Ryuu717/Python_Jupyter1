{
 "cells": [
  {
   "cell_type": "code",
   "execution_count": 2,
   "id": "56c28eef",
   "metadata": {},
   "outputs": [
    {
     "name": "stderr",
     "output_type": "stream",
     "text": [
      "Duplicate key in file PosixPath('/opt/anaconda3/lib/python3.8/site-packages/matplotlib/mpl-data/matplotlibrc'), line 250 ('font.family : IPAexGothic')\n"
     ]
    }
   ],
   "source": [
    "import pandas as pd\n",
    "import numpy as np\n",
    "from matplotlib import pyplot as plt \n",
    "%matplotlib inline\n",
    "import seaborn as sns"
   ]
  },
  {
   "cell_type": "code",
   "execution_count": 3,
   "id": "b5be5a74",
   "metadata": {},
   "outputs": [],
   "source": [
    "train = pd.read_csv(\"train.csv\")\n",
    "test = pd.read_csv(\"test.csv\")\n",
    "sample = pd.read_csv(\"sample.csv\",header=None)"
   ]
  },
  {
   "cell_type": "code",
   "execution_count": 4,
   "id": "4002f9fa",
   "metadata": {},
   "outputs": [
    {
     "data": {
      "text/html": [
       "<div>\n",
       "<style scoped>\n",
       "    .dataframe tbody tr th:only-of-type {\n",
       "        vertical-align: middle;\n",
       "    }\n",
       "\n",
       "    .dataframe tbody tr th {\n",
       "        vertical-align: top;\n",
       "    }\n",
       "\n",
       "    .dataframe thead th {\n",
       "        text-align: right;\n",
       "    }\n",
       "</style>\n",
       "<table border=\"1\" class=\"dataframe\">\n",
       "  <thead>\n",
       "    <tr style=\"text-align: right;\">\n",
       "      <th></th>\n",
       "      <th>datetime</th>\n",
       "      <th>y</th>\n",
       "      <th>week</th>\n",
       "      <th>soldout</th>\n",
       "      <th>name</th>\n",
       "      <th>kcal</th>\n",
       "      <th>remarks</th>\n",
       "      <th>event</th>\n",
       "      <th>payday</th>\n",
       "      <th>weather</th>\n",
       "      <th>precipitation</th>\n",
       "      <th>temperature</th>\n",
       "    </tr>\n",
       "  </thead>\n",
       "  <tbody>\n",
       "    <tr>\n",
       "      <th>0</th>\n",
       "      <td>2013-11-18</td>\n",
       "      <td>90</td>\n",
       "      <td>月</td>\n",
       "      <td>0</td>\n",
       "      <td>厚切りイカフライ</td>\n",
       "      <td>NaN</td>\n",
       "      <td>NaN</td>\n",
       "      <td>NaN</td>\n",
       "      <td>NaN</td>\n",
       "      <td>快晴</td>\n",
       "      <td>--</td>\n",
       "      <td>19.8</td>\n",
       "    </tr>\n",
       "    <tr>\n",
       "      <th>1</th>\n",
       "      <td>2013-11-19</td>\n",
       "      <td>101</td>\n",
       "      <td>火</td>\n",
       "      <td>1</td>\n",
       "      <td>手作りヒレカツ</td>\n",
       "      <td>NaN</td>\n",
       "      <td>NaN</td>\n",
       "      <td>NaN</td>\n",
       "      <td>NaN</td>\n",
       "      <td>快晴</td>\n",
       "      <td>--</td>\n",
       "      <td>17.0</td>\n",
       "    </tr>\n",
       "    <tr>\n",
       "      <th>2</th>\n",
       "      <td>2013-11-20</td>\n",
       "      <td>118</td>\n",
       "      <td>水</td>\n",
       "      <td>0</td>\n",
       "      <td>白身魚唐揚げ野菜あん</td>\n",
       "      <td>NaN</td>\n",
       "      <td>NaN</td>\n",
       "      <td>NaN</td>\n",
       "      <td>NaN</td>\n",
       "      <td>快晴</td>\n",
       "      <td>--</td>\n",
       "      <td>15.5</td>\n",
       "    </tr>\n",
       "    <tr>\n",
       "      <th>3</th>\n",
       "      <td>2013-11-21</td>\n",
       "      <td>120</td>\n",
       "      <td>木</td>\n",
       "      <td>1</td>\n",
       "      <td>若鶏ピリ辛焼</td>\n",
       "      <td>NaN</td>\n",
       "      <td>NaN</td>\n",
       "      <td>NaN</td>\n",
       "      <td>NaN</td>\n",
       "      <td>快晴</td>\n",
       "      <td>--</td>\n",
       "      <td>15.2</td>\n",
       "    </tr>\n",
       "    <tr>\n",
       "      <th>4</th>\n",
       "      <td>2013-11-22</td>\n",
       "      <td>130</td>\n",
       "      <td>金</td>\n",
       "      <td>1</td>\n",
       "      <td>ビッグメンチカツ</td>\n",
       "      <td>NaN</td>\n",
       "      <td>NaN</td>\n",
       "      <td>NaN</td>\n",
       "      <td>NaN</td>\n",
       "      <td>快晴</td>\n",
       "      <td>--</td>\n",
       "      <td>16.1</td>\n",
       "    </tr>\n",
       "  </tbody>\n",
       "</table>\n",
       "</div>"
      ],
      "text/plain": [
       "     datetime    y week  soldout        name  kcal remarks event  payday  \\\n",
       "0  2013-11-18   90    月        0    厚切りイカフライ   NaN     NaN   NaN     NaN   \n",
       "1  2013-11-19  101    火        1     手作りヒレカツ   NaN     NaN   NaN     NaN   \n",
       "2  2013-11-20  118    水        0  白身魚唐揚げ野菜あん   NaN     NaN   NaN     NaN   \n",
       "3  2013-11-21  120    木        1      若鶏ピリ辛焼   NaN     NaN   NaN     NaN   \n",
       "4  2013-11-22  130    金        1    ビッグメンチカツ   NaN     NaN   NaN     NaN   \n",
       "\n",
       "  weather precipitation  temperature  \n",
       "0      快晴            --         19.8  \n",
       "1      快晴            --         17.0  \n",
       "2      快晴            --         15.5  \n",
       "3      快晴            --         15.2  \n",
       "4      快晴            --         16.1  "
      ]
     },
     "execution_count": 4,
     "metadata": {},
     "output_type": "execute_result"
    }
   ],
   "source": [
    "train.head()"
   ]
  },
  {
   "cell_type": "code",
   "execution_count": 5,
   "id": "e3f72e89",
   "metadata": {},
   "outputs": [
    {
     "data": {
      "text/html": [
       "<div>\n",
       "<style scoped>\n",
       "    .dataframe tbody tr th:only-of-type {\n",
       "        vertical-align: middle;\n",
       "    }\n",
       "\n",
       "    .dataframe tbody tr th {\n",
       "        vertical-align: top;\n",
       "    }\n",
       "\n",
       "    .dataframe thead th {\n",
       "        text-align: right;\n",
       "    }\n",
       "</style>\n",
       "<table border=\"1\" class=\"dataframe\">\n",
       "  <thead>\n",
       "    <tr style=\"text-align: right;\">\n",
       "      <th></th>\n",
       "      <th>y</th>\n",
       "      <th>soldout</th>\n",
       "      <th>kcal</th>\n",
       "      <th>payday</th>\n",
       "      <th>temperature</th>\n",
       "    </tr>\n",
       "  </thead>\n",
       "  <tbody>\n",
       "    <tr>\n",
       "      <th>count</th>\n",
       "      <td>207.000000</td>\n",
       "      <td>207.000000</td>\n",
       "      <td>166.000000</td>\n",
       "      <td>10.0</td>\n",
       "      <td>207.000000</td>\n",
       "    </tr>\n",
       "    <tr>\n",
       "      <th>mean</th>\n",
       "      <td>86.623188</td>\n",
       "      <td>0.449275</td>\n",
       "      <td>404.409639</td>\n",
       "      <td>1.0</td>\n",
       "      <td>19.252174</td>\n",
       "    </tr>\n",
       "    <tr>\n",
       "      <th>std</th>\n",
       "      <td>32.882448</td>\n",
       "      <td>0.498626</td>\n",
       "      <td>29.884641</td>\n",
       "      <td>0.0</td>\n",
       "      <td>8.611365</td>\n",
       "    </tr>\n",
       "    <tr>\n",
       "      <th>min</th>\n",
       "      <td>29.000000</td>\n",
       "      <td>0.000000</td>\n",
       "      <td>315.000000</td>\n",
       "      <td>1.0</td>\n",
       "      <td>1.200000</td>\n",
       "    </tr>\n",
       "    <tr>\n",
       "      <th>25%</th>\n",
       "      <td>57.000000</td>\n",
       "      <td>0.000000</td>\n",
       "      <td>386.000000</td>\n",
       "      <td>1.0</td>\n",
       "      <td>11.550000</td>\n",
       "    </tr>\n",
       "    <tr>\n",
       "      <th>50%</th>\n",
       "      <td>78.000000</td>\n",
       "      <td>0.000000</td>\n",
       "      <td>408.500000</td>\n",
       "      <td>1.0</td>\n",
       "      <td>19.800000</td>\n",
       "    </tr>\n",
       "    <tr>\n",
       "      <th>75%</th>\n",
       "      <td>113.000000</td>\n",
       "      <td>1.000000</td>\n",
       "      <td>426.000000</td>\n",
       "      <td>1.0</td>\n",
       "      <td>26.100000</td>\n",
       "    </tr>\n",
       "    <tr>\n",
       "      <th>max</th>\n",
       "      <td>171.000000</td>\n",
       "      <td>1.000000</td>\n",
       "      <td>462.000000</td>\n",
       "      <td>1.0</td>\n",
       "      <td>34.600000</td>\n",
       "    </tr>\n",
       "  </tbody>\n",
       "</table>\n",
       "</div>"
      ],
      "text/plain": [
       "                y     soldout        kcal  payday  temperature\n",
       "count  207.000000  207.000000  166.000000    10.0   207.000000\n",
       "mean    86.623188    0.449275  404.409639     1.0    19.252174\n",
       "std     32.882448    0.498626   29.884641     0.0     8.611365\n",
       "min     29.000000    0.000000  315.000000     1.0     1.200000\n",
       "25%     57.000000    0.000000  386.000000     1.0    11.550000\n",
       "50%     78.000000    0.000000  408.500000     1.0    19.800000\n",
       "75%    113.000000    1.000000  426.000000     1.0    26.100000\n",
       "max    171.000000    1.000000  462.000000     1.0    34.600000"
      ]
     },
     "execution_count": 5,
     "metadata": {},
     "output_type": "execute_result"
    }
   ],
   "source": [
    "train.describe()"
   ]
  },
  {
   "cell_type": "code",
   "execution_count": 6,
   "id": "74d0295f",
   "metadata": {},
   "outputs": [
    {
     "data": {
      "text/html": [
       "<div>\n",
       "<style scoped>\n",
       "    .dataframe tbody tr th:only-of-type {\n",
       "        vertical-align: middle;\n",
       "    }\n",
       "\n",
       "    .dataframe tbody tr th {\n",
       "        vertical-align: top;\n",
       "    }\n",
       "\n",
       "    .dataframe thead th {\n",
       "        text-align: right;\n",
       "    }\n",
       "</style>\n",
       "<table border=\"1\" class=\"dataframe\">\n",
       "  <thead>\n",
       "    <tr style=\"text-align: right;\">\n",
       "      <th></th>\n",
       "      <th>datetime</th>\n",
       "      <th>week</th>\n",
       "      <th>name</th>\n",
       "      <th>remarks</th>\n",
       "      <th>event</th>\n",
       "      <th>weather</th>\n",
       "      <th>precipitation</th>\n",
       "    </tr>\n",
       "  </thead>\n",
       "  <tbody>\n",
       "    <tr>\n",
       "      <th>count</th>\n",
       "      <td>207</td>\n",
       "      <td>207</td>\n",
       "      <td>207</td>\n",
       "      <td>21</td>\n",
       "      <td>14</td>\n",
       "      <td>207</td>\n",
       "      <td>207</td>\n",
       "    </tr>\n",
       "    <tr>\n",
       "      <th>unique</th>\n",
       "      <td>207</td>\n",
       "      <td>5</td>\n",
       "      <td>156</td>\n",
       "      <td>6</td>\n",
       "      <td>2</td>\n",
       "      <td>7</td>\n",
       "      <td>8</td>\n",
       "    </tr>\n",
       "    <tr>\n",
       "      <th>top</th>\n",
       "      <td>2014-3-31</td>\n",
       "      <td>水</td>\n",
       "      <td>タンドリーチキン</td>\n",
       "      <td>お楽しみメニュー</td>\n",
       "      <td>ママの会</td>\n",
       "      <td>快晴</td>\n",
       "      <td>--</td>\n",
       "    </tr>\n",
       "    <tr>\n",
       "      <th>freq</th>\n",
       "      <td>1</td>\n",
       "      <td>43</td>\n",
       "      <td>6</td>\n",
       "      <td>12</td>\n",
       "      <td>9</td>\n",
       "      <td>53</td>\n",
       "      <td>169</td>\n",
       "    </tr>\n",
       "  </tbody>\n",
       "</table>\n",
       "</div>"
      ],
      "text/plain": [
       "         datetime week      name   remarks event weather precipitation\n",
       "count         207  207       207        21    14     207           207\n",
       "unique        207    5       156         6     2       7             8\n",
       "top     2014-3-31    水  タンドリーチキン  お楽しみメニュー  ママの会      快晴            --\n",
       "freq            1   43         6        12     9      53           169"
      ]
     },
     "execution_count": 6,
     "metadata": {},
     "output_type": "execute_result"
    }
   ],
   "source": [
    "train.describe(include=\"O\")"
   ]
  },
  {
   "cell_type": "code",
   "execution_count": 7,
   "id": "1bf8368d",
   "metadata": {},
   "outputs": [
    {
     "data": {
      "text/plain": [
       "<AxesSubplot:>"
      ]
     },
     "execution_count": 7,
     "metadata": {},
     "output_type": "execute_result"
    },
    {
     "data": {
      "image/png": "[encoded data removed]",
      "text/plain": [
       "<Figure size 864x288 with 1 Axes>"
      ]
     },
     "metadata": {
      "needs_background": "light"
     },
     "output_type": "display_data"
    }
   ],
   "source": [
    "train[\"y\"].plot(figsize=(12,4),grid=True)"
   ]
  },
  {
   "cell_type": "code",
   "execution_count": 8,
   "id": "bad9175c",
   "metadata": {
    "scrolled": true
   },
   "outputs": [
    {
     "data": {
      "image/png": "[encoded data removed]",
      "text/plain": [
       "<Figure size 648x432 with 6 Axes>"
      ]
     },
     "metadata": {
      "needs_background": "light"
     },
     "output_type": "display_data"
    }
   ],
   "source": [
    "fig, ax = plt.subplots(2,3,figsize=(9,6))\n",
    "train.plot.scatter(x=\"soldout\", y=\"y\", ax=ax[0][0])\n",
    "train.plot.scatter(x=\"kcal\", y=\"y\", ax=ax[0][1])\n",
    "train.plot.scatter(x=\"precipitation\", y=\"y\", ax=ax[0][2])\n",
    "train.plot.scatter(x=\"payday\", y=\"y\", ax=ax[1][0])\n",
    "train.plot.scatter(x=\"temperature\", y=\"y\", ax=ax[1][1])\n",
    "plt.tight_layout()"
   ]
  },
  {
   "cell_type": "code",
   "execution_count": 9,
   "id": "a314d9ab",
   "metadata": {
    "scrolled": true
   },
   "outputs": [
    {
     "data": {
      "image/png": "[encoded data removed]",
      "text/plain": [
       "<Figure size 864x504 with 4 Axes>"
      ]
     },
     "metadata": {
      "needs_background": "light"
     },
     "output_type": "display_data"
    }
   ],
   "source": [
    "fig, ax = plt.subplots(2,2,figsize=(12,7))\n",
    "sns.boxplot(x=\"week\",y=\"y\",data=train,ax=ax[0][0])\n",
    "sns.boxplot(x=\"weather\",y=\"y\",data=train,ax=ax[0][1])\n",
    "sns.boxplot(x=\"remarks\",y=\"y\",data=train,ax=ax[1][0])\n",
    "ax[1][0].set_xticklabels(ax[1][0].get_xticklabels(),rotation=45)\n",
    "sns.boxplot(x=\"event\",y=\"y\",data=train,ax=ax[1][1])\n",
    "plt.tight_layout()"
   ]
  },
  {
   "cell_type": "code",
   "execution_count": 10,
   "id": "cd7962c3",
   "metadata": {},
   "outputs": [
    {
     "data": {
      "text/plain": [
       "お楽しみメニュー                    12\n",
       "料理長のこだわりメニュー                 5\n",
       "酢豚（28食）、カレー（85食）             1\n",
       "スペシャルメニュー（800円）              1\n",
       "鶏のレモンペッパー焼（50食）、カレー（42食）     1\n",
       "手作りの味                        1\n",
       "Name: remarks, dtype: int64"
      ]
     },
     "execution_count": 10,
     "metadata": {},
     "output_type": "execute_result"
    }
   ],
   "source": [
    "train[\"remarks\"].value_counts()"
   ]
  },
  {
   "cell_type": "code",
   "execution_count": 11,
   "id": "8a88d70d",
   "metadata": {},
   "outputs": [
    {
     "data": {
      "text/plain": [
       "datetime           0\n",
       "y                  0\n",
       "week               0\n",
       "soldout            0\n",
       "name               0\n",
       "kcal              41\n",
       "remarks          186\n",
       "event            193\n",
       "payday           197\n",
       "weather            0\n",
       "precipitation      0\n",
       "temperature        0\n",
       "dtype: int64"
      ]
     },
     "execution_count": 11,
     "metadata": {},
     "output_type": "execute_result"
    }
   ],
   "source": [
    "train. isnull().sum()"
   ]
  },
  {
   "cell_type": "code",
   "execution_count": 12,
   "id": "6f1412bc",
   "metadata": {},
   "outputs": [],
   "source": [
    "train[\"kcal\"] = train[\"kcal\"].fillna(train[\"kcal\"].mean())\n",
    "train[\"remarks\"] = train[\"remarks\"].fillna(\"なし\")\n",
    "train[\"event\"] = train[\"event\"].fillna(\"なし\")\n",
    "train[\"payday\"] = train[\"payday\"].fillna(0)"
   ]
  },
  {
   "cell_type": "code",
   "execution_count": 13,
   "id": "0db0552b",
   "metadata": {
    "scrolled": false
   },
   "outputs": [
    {
     "data": {
      "text/plain": [
       "datetime         0\n",
       "y                0\n",
       "week             0\n",
       "soldout          0\n",
       "name             0\n",
       "kcal             0\n",
       "remarks          0\n",
       "event            0\n",
       "payday           0\n",
       "weather          0\n",
       "precipitation    0\n",
       "temperature      0\n",
       "dtype: int64"
      ]
     },
     "execution_count": 13,
     "metadata": {},
     "output_type": "execute_result"
    }
   ],
   "source": [
    "train. isnull().sum()"
   ]
  },
  {
   "cell_type": "code",
   "execution_count": 15,
   "id": "cb25019c",
   "metadata": {
    "scrolled": true
   },
   "outputs": [],
   "source": [
    "train.index = pd.to_datetime(train[\"datetime\"])\n",
    "train = train[\"2014-1-7\":]"
   ]
  },
  {
   "cell_type": "code",
   "execution_count": 16,
   "id": "c2a18597",
   "metadata": {},
   "outputs": [
    {
     "data": {
      "text/html": [
       "<div>\n",
       "<style scoped>\n",
       "    .dataframe tbody tr th:only-of-type {\n",
       "        vertical-align: middle;\n",
       "    }\n",
       "\n",
       "    .dataframe tbody tr th {\n",
       "        vertical-align: top;\n",
       "    }\n",
       "\n",
       "    .dataframe thead th {\n",
       "        text-align: right;\n",
       "    }\n",
       "</style>\n",
       "<table border=\"1\" class=\"dataframe\">\n",
       "  <thead>\n",
       "    <tr style=\"text-align: right;\">\n",
       "      <th></th>\n",
       "      <th>datetime</th>\n",
       "      <th>y</th>\n",
       "      <th>week</th>\n",
       "      <th>soldout</th>\n",
       "      <th>name</th>\n",
       "      <th>kcal</th>\n",
       "      <th>remarks</th>\n",
       "      <th>event</th>\n",
       "      <th>payday</th>\n",
       "      <th>weather</th>\n",
       "      <th>precipitation</th>\n",
       "      <th>temperature</th>\n",
       "    </tr>\n",
       "    <tr>\n",
       "      <th>datetime</th>\n",
       "      <th></th>\n",
       "      <th></th>\n",
       "      <th></th>\n",
       "      <th></th>\n",
       "      <th></th>\n",
       "      <th></th>\n",
       "      <th></th>\n",
       "      <th></th>\n",
       "      <th></th>\n",
       "      <th></th>\n",
       "      <th></th>\n",
       "      <th></th>\n",
       "    </tr>\n",
       "  </thead>\n",
       "  <tbody>\n",
       "    <tr>\n",
       "      <th>2014-01-07</th>\n",
       "      <td>2014-1-7</td>\n",
       "      <td>131</td>\n",
       "      <td>火</td>\n",
       "      <td>0</td>\n",
       "      <td>カレー入りソーセージカツ</td>\n",
       "      <td>404.000000</td>\n",
       "      <td>なし</td>\n",
       "      <td>なし</td>\n",
       "      <td>0.0</td>\n",
       "      <td>快晴</td>\n",
       "      <td>--</td>\n",
       "      <td>7.3</td>\n",
       "    </tr>\n",
       "    <tr>\n",
       "      <th>2014-01-08</th>\n",
       "      <td>2014-1-8</td>\n",
       "      <td>128</td>\n",
       "      <td>水</td>\n",
       "      <td>0</td>\n",
       "      <td>豚肉の生姜焼</td>\n",
       "      <td>462.000000</td>\n",
       "      <td>なし</td>\n",
       "      <td>なし</td>\n",
       "      <td>0.0</td>\n",
       "      <td>曇</td>\n",
       "      <td>--</td>\n",
       "      <td>9.8</td>\n",
       "    </tr>\n",
       "    <tr>\n",
       "      <th>2014-01-09</th>\n",
       "      <td>2014-1-9</td>\n",
       "      <td>129</td>\n",
       "      <td>木</td>\n",
       "      <td>1</td>\n",
       "      <td>鶏チリソース</td>\n",
       "      <td>435.000000</td>\n",
       "      <td>なし</td>\n",
       "      <td>なし</td>\n",
       "      <td>0.0</td>\n",
       "      <td>曇</td>\n",
       "      <td>--</td>\n",
       "      <td>10.9</td>\n",
       "    </tr>\n",
       "    <tr>\n",
       "      <th>2014-01-10</th>\n",
       "      <td>2014-1-10</td>\n",
       "      <td>87</td>\n",
       "      <td>金</td>\n",
       "      <td>0</td>\n",
       "      <td>手作りロースカツ</td>\n",
       "      <td>440.000000</td>\n",
       "      <td>なし</td>\n",
       "      <td>なし</td>\n",
       "      <td>1.0</td>\n",
       "      <td>快晴</td>\n",
       "      <td>--</td>\n",
       "      <td>5.1</td>\n",
       "    </tr>\n",
       "    <tr>\n",
       "      <th>2014-01-14</th>\n",
       "      <td>2014-1-14</td>\n",
       "      <td>129</td>\n",
       "      <td>火</td>\n",
       "      <td>1</td>\n",
       "      <td>鶏の照り焼きマスタード</td>\n",
       "      <td>376.000000</td>\n",
       "      <td>なし</td>\n",
       "      <td>なし</td>\n",
       "      <td>0.0</td>\n",
       "      <td>晴れ</td>\n",
       "      <td>--</td>\n",
       "      <td>5.8</td>\n",
       "    </tr>\n",
       "    <tr>\n",
       "      <th>...</th>\n",
       "      <td>...</td>\n",
       "      <td>...</td>\n",
       "      <td>...</td>\n",
       "      <td>...</td>\n",
       "      <td>...</td>\n",
       "      <td>...</td>\n",
       "      <td>...</td>\n",
       "      <td>...</td>\n",
       "      <td>...</td>\n",
       "      <td>...</td>\n",
       "      <td>...</td>\n",
       "      <td>...</td>\n",
       "    </tr>\n",
       "    <tr>\n",
       "      <th>2014-09-24</th>\n",
       "      <td>2014-9-24</td>\n",
       "      <td>59</td>\n",
       "      <td>水</td>\n",
       "      <td>1</td>\n",
       "      <td>白身魚のマスタード焼き</td>\n",
       "      <td>408.000000</td>\n",
       "      <td>なし</td>\n",
       "      <td>なし</td>\n",
       "      <td>0.0</td>\n",
       "      <td>曇</td>\n",
       "      <td>0</td>\n",
       "      <td>24.8</td>\n",
       "    </tr>\n",
       "    <tr>\n",
       "      <th>2014-09-25</th>\n",
       "      <td>2014-9-25</td>\n",
       "      <td>50</td>\n",
       "      <td>木</td>\n",
       "      <td>0</td>\n",
       "      <td>牛カルビ焼き肉</td>\n",
       "      <td>394.000000</td>\n",
       "      <td>なし</td>\n",
       "      <td>なし</td>\n",
       "      <td>0.0</td>\n",
       "      <td>曇</td>\n",
       "      <td>0</td>\n",
       "      <td>25.4</td>\n",
       "    </tr>\n",
       "    <tr>\n",
       "      <th>2014-09-26</th>\n",
       "      <td>2014-9-26</td>\n",
       "      <td>45</td>\n",
       "      <td>金</td>\n",
       "      <td>0</td>\n",
       "      <td>ランチビュッフェ</td>\n",
       "      <td>404.409639</td>\n",
       "      <td>スペシャルメニュー（800円）</td>\n",
       "      <td>キャリアアップ支援セミナー</td>\n",
       "      <td>0.0</td>\n",
       "      <td>晴れ</td>\n",
       "      <td>--</td>\n",
       "      <td>27.1</td>\n",
       "    </tr>\n",
       "    <tr>\n",
       "      <th>2014-09-29</th>\n",
       "      <td>2014-9-29</td>\n",
       "      <td>56</td>\n",
       "      <td>月</td>\n",
       "      <td>1</td>\n",
       "      <td>豚肉と玉子の炒め</td>\n",
       "      <td>404.000000</td>\n",
       "      <td>なし</td>\n",
       "      <td>なし</td>\n",
       "      <td>0.0</td>\n",
       "      <td>快晴</td>\n",
       "      <td>--</td>\n",
       "      <td>26.6</td>\n",
       "    </tr>\n",
       "    <tr>\n",
       "      <th>2014-09-30</th>\n",
       "      <td>2014-9-30</td>\n",
       "      <td>40</td>\n",
       "      <td>火</td>\n",
       "      <td>0</td>\n",
       "      <td>鶏肉とカシューナッツ炒め</td>\n",
       "      <td>398.000000</td>\n",
       "      <td>なし</td>\n",
       "      <td>なし</td>\n",
       "      <td>0.0</td>\n",
       "      <td>快晴</td>\n",
       "      <td>--</td>\n",
       "      <td>28.1</td>\n",
       "    </tr>\n",
       "  </tbody>\n",
       "</table>\n",
       "<p>179 rows × 12 columns</p>\n",
       "</div>"
      ],
      "text/plain": [
       "             datetime    y week  soldout          name        kcal  \\\n",
       "datetime                                                             \n",
       "2014-01-07   2014-1-7  131    火        0  カレー入りソーセージカツ  404.000000   \n",
       "2014-01-08   2014-1-8  128    水        0        豚肉の生姜焼  462.000000   \n",
       "2014-01-09   2014-1-9  129    木        1        鶏チリソース  435.000000   \n",
       "2014-01-10  2014-1-10   87    金        0      手作りロースカツ  440.000000   \n",
       "2014-01-14  2014-1-14  129    火        1   鶏の照り焼きマスタード  376.000000   \n",
       "...               ...  ...  ...      ...           ...         ...   \n",
       "2014-09-24  2014-9-24   59    水        1   白身魚のマスタード焼き  408.000000   \n",
       "2014-09-25  2014-9-25   50    木        0       牛カルビ焼き肉  394.000000   \n",
       "2014-09-26  2014-9-26   45    金        0      ランチビュッフェ  404.409639   \n",
       "2014-09-29  2014-9-29   56    月        1      豚肉と玉子の炒め  404.000000   \n",
       "2014-09-30  2014-9-30   40    火        0  鶏肉とカシューナッツ炒め  398.000000   \n",
       "\n",
       "                    remarks          event  payday weather precipitation  \\\n",
       "datetime                                                                   \n",
       "2014-01-07               なし             なし     0.0      快晴            --   \n",
       "2014-01-08               なし             なし     0.0       曇            --   \n",
       "2014-01-09               なし             なし     0.0       曇            --   \n",
       "2014-01-10               なし             なし     1.0      快晴            --   \n",
       "2014-01-14               なし             なし     0.0      晴れ            --   \n",
       "...                     ...            ...     ...     ...           ...   \n",
       "2014-09-24               なし             なし     0.0       曇             0   \n",
       "2014-09-25               なし             なし     0.0       曇             0   \n",
       "2014-09-26  スペシャルメニュー（800円）  キャリアアップ支援セミナー     0.0      晴れ            --   \n",
       "2014-09-29               なし             なし     0.0      快晴            --   \n",
       "2014-09-30               なし             なし     0.0      快晴            --   \n",
       "\n",
       "            temperature  \n",
       "datetime                 \n",
       "2014-01-07          7.3  \n",
       "2014-01-08          9.8  \n",
       "2014-01-09         10.9  \n",
       "2014-01-10          5.1  \n",
       "2014-01-14          5.8  \n",
       "...                 ...  \n",
       "2014-09-24         24.8  \n",
       "2014-09-25         25.4  \n",
       "2014-09-26         27.1  \n",
       "2014-09-29         26.6  \n",
       "2014-09-30         28.1  \n",
       "\n",
       "[179 rows x 12 columns]"
      ]
     },
     "execution_count": 16,
     "metadata": {},
     "output_type": "execute_result"
    }
   ],
   "source": [
    "train"
   ]
  },
  {
   "cell_type": "code",
   "execution_count": 17,
   "id": "fa3aa6b2",
   "metadata": {},
   "outputs": [],
   "source": [
    "trainX = pd.get_dummies(train[[\"temperature\",\"remarks\"]])\n",
    "y=train[\"y\"]"
   ]
  },
  {
   "cell_type": "code",
   "execution_count": 18,
   "id": "13fe25fa",
   "metadata": {},
   "outputs": [],
   "source": [
    "from sklearn.linear_model import LinearRegression as LR\n",
    "model = LR()"
   ]
  },
  {
   "cell_type": "code",
   "execution_count": 19,
   "id": "04e09a48",
   "metadata": {},
   "outputs": [
    {
     "data": {
      "text/plain": [
       "LinearRegression()"
      ]
     },
     "execution_count": 19,
     "metadata": {},
     "output_type": "execute_result"
    }
   ],
   "source": [
    "model.fit(trainX,y)"
   ]
  },
  {
   "cell_type": "code",
   "execution_count": 20,
   "id": "6fd59b34",
   "metadata": {
    "scrolled": true
   },
   "outputs": [
    {
     "name": "stdout",
     "output_type": "stream",
     "text": [
      "傾き [ -2.29494388  42.14876969  -5.05222278 -20.68325276   6.906635\n",
      " -15.25342144   4.63079104 -12.69729875]\n",
      "切片 127.87623194884698\n",
      "決定計数 0.6086556313111962\n"
     ]
    }
   ],
   "source": [
    "print(\"傾き\",model.coef_)\n",
    "print(\"切片\",model.intercept_)\n",
    "print(\"決定計数\",model.score(trainX,y))"
   ]
  },
  {
   "cell_type": "code",
   "execution_count": 21,
   "id": "534a5ded",
   "metadata": {
    "scrolled": false
   },
   "outputs": [
    {
     "data": {
      "text/plain": [
       "datetime\n",
       "2014-01-07    131\n",
       "2014-01-08    128\n",
       "2014-01-09    129\n",
       "2014-01-10     87\n",
       "2014-01-14    129\n",
       "             ... \n",
       "2014-09-24     59\n",
       "2014-09-25     50\n",
       "2014-09-26     45\n",
       "2014-09-29     56\n",
       "2014-09-30     40\n",
       "Name: y, Length: 179, dtype: int64"
      ]
     },
     "execution_count": 21,
     "metadata": {},
     "output_type": "execute_result"
    }
   ],
   "source": [
    "train[\"y\"]"
   ]
  },
  {
   "cell_type": "code",
   "execution_count": 22,
   "id": "894dd67f",
   "metadata": {},
   "outputs": [],
   "source": [
    "train = train.reset_index(drop=True)"
   ]
  },
  {
   "cell_type": "code",
   "execution_count": 23,
   "id": "d56194e3",
   "metadata": {},
   "outputs": [
    {
     "data": {
      "text/plain": [
       "0      131\n",
       "1      128\n",
       "2      129\n",
       "3       87\n",
       "4      129\n",
       "      ... \n",
       "174     59\n",
       "175     50\n",
       "176     45\n",
       "177     56\n",
       "178     40\n",
       "Name: y, Length: 179, dtype: int64"
      ]
     },
     "execution_count": 23,
     "metadata": {},
     "output_type": "execute_result"
    }
   ],
   "source": [
    "train[\"y\"]"
   ]
  },
  {
   "cell_type": "code",
   "execution_count": 24,
   "id": "c4bf0313",
   "metadata": {},
   "outputs": [],
   "source": [
    "pred = model.predict(trainX)"
   ]
  },
  {
   "cell_type": "code",
   "execution_count": 25,
   "id": "5be32fc8",
   "metadata": {
    "scrolled": true
   },
   "outputs": [
    {
     "name": "stdout",
     "output_type": "stream",
     "text": [
      "RMSE 17.178618148133573\n"
     ]
    }
   ],
   "source": [
    "from sklearn.metrics import mean_squared_error as MSE\n",
    "print(\"RMSE\",MSE(train[\"y\"],pred)**0.5)"
   ]
  },
  {
   "cell_type": "code",
   "execution_count": 27,
   "id": "8fdb4628",
   "metadata": {},
   "outputs": [
    {
     "data": {
      "text/html": [
       "<div>\n",
       "<style scoped>\n",
       "    .dataframe tbody tr th:only-of-type {\n",
       "        vertical-align: middle;\n",
       "    }\n",
       "\n",
       "    .dataframe tbody tr th {\n",
       "        vertical-align: top;\n",
       "    }\n",
       "\n",
       "    .dataframe thead th {\n",
       "        text-align: right;\n",
       "    }\n",
       "</style>\n",
       "<table border=\"1\" class=\"dataframe\">\n",
       "  <thead>\n",
       "    <tr style=\"text-align: right;\">\n",
       "      <th></th>\n",
       "      <th>datetime</th>\n",
       "      <th>y</th>\n",
       "      <th>week</th>\n",
       "      <th>soldout</th>\n",
       "      <th>name</th>\n",
       "      <th>kcal</th>\n",
       "      <th>remarks</th>\n",
       "      <th>event</th>\n",
       "      <th>payday</th>\n",
       "      <th>weather</th>\n",
       "      <th>precipitation</th>\n",
       "      <th>temperature</th>\n",
       "    </tr>\n",
       "  </thead>\n",
       "  <tbody>\n",
       "    <tr>\n",
       "      <th>1</th>\n",
       "      <td>2014-1-8</td>\n",
       "      <td>128</td>\n",
       "      <td>水</td>\n",
       "      <td>0</td>\n",
       "      <td>豚肉の生姜焼</td>\n",
       "      <td>462.0</td>\n",
       "      <td>なし</td>\n",
       "      <td>なし</td>\n",
       "      <td>0.0</td>\n",
       "      <td>曇</td>\n",
       "      <td>--</td>\n",
       "      <td>9.8</td>\n",
       "    </tr>\n",
       "    <tr>\n",
       "      <th>2</th>\n",
       "      <td>2014-1-9</td>\n",
       "      <td>129</td>\n",
       "      <td>木</td>\n",
       "      <td>1</td>\n",
       "      <td>鶏チリソース</td>\n",
       "      <td>435.0</td>\n",
       "      <td>なし</td>\n",
       "      <td>なし</td>\n",
       "      <td>0.0</td>\n",
       "      <td>曇</td>\n",
       "      <td>--</td>\n",
       "      <td>10.9</td>\n",
       "    </tr>\n",
       "  </tbody>\n",
       "</table>\n",
       "</div>"
      ],
      "text/plain": [
       "   datetime    y week  soldout    name   kcal remarks event  payday weather  \\\n",
       "1  2014-1-8  128    水        0  豚肉の生姜焼  462.0      なし    なし     0.0       曇   \n",
       "2  2014-1-9  129    木        1  鶏チリソース  435.0      なし    なし     0.0       曇   \n",
       "\n",
       "  precipitation  temperature  \n",
       "1            --          9.8  \n",
       "2            --         10.9  "
      ]
     },
     "execution_count": 27,
     "metadata": {},
     "output_type": "execute_result"
    }
   ],
   "source": [
    " train.iloc[1:3,0:17]"
   ]
  },
  {
   "cell_type": "code",
   "execution_count": 28,
   "id": "28460ae5",
   "metadata": {},
   "outputs": [
    {
     "ename": "NameError",
     "evalue": "name 'GridSearchCV' is not defined",
     "output_type": "error",
     "traceback": [
      "\u001b[0;31m---------------------------------------------------------------------------\u001b[0m",
      "\u001b[0;31mNameError\u001b[0m                                 Traceback (most recent call last)",
      "\u001b[0;32m<ipython-input-28-a1723c95ef1f>\u001b[0m in \u001b[0;36m<module>\u001b[0;34m\u001b[0m\n\u001b[0;32m----> 1\u001b[0;31m \u001b[0mgcv\u001b[0m \u001b[0;34m=\u001b[0m \u001b[0mGridSearchCV\u001b[0m\u001b[0;34m(\u001b[0m\u001b[0mclf\u001b[0m\u001b[0;34m,\u001b[0m \u001b[0mparameters\u001b[0m\u001b[0;34m,\u001b[0m\u001b[0mcv\u001b[0m\u001b[0;34m=\u001b[0m\u001b[0;36m6\u001b[0m\u001b[0;34m,\u001b[0m \u001b[0mscoring\u001b[0m\u001b[0;34m=\u001b[0m\u001b[0;34m\"roc_auc\"\u001b[0m\u001b[0;34m,\u001b[0m \u001b[0mn_jobs\u001b[0m\u001b[0;34m=\u001b[0m\u001b[0;34m-\u001b[0m\u001b[0;36m1\u001b[0m\u001b[0;34m,\u001b[0m \u001b[0mreturn_train_score\u001b[0m\u001b[0;34m=\u001b[0m\u001b[0;32mTrue\u001b[0m\u001b[0;34m)\u001b[0m\u001b[0;34m\u001b[0m\u001b[0;34m\u001b[0m\u001b[0m\n\u001b[0m\u001b[1;32m      2\u001b[0m \u001b[0mgcv\u001b[0m\u001b[0;34m.\u001b[0m\u001b[0mfit\u001b[0m\u001b[0;34m(\u001b[0m\u001b[0mtrainX\u001b[0m\u001b[0;34m,\u001b[0m\u001b[0my\u001b[0m\u001b[0;34m)\u001b[0m\u001b[0;34m\u001b[0m\u001b[0;34m\u001b[0m\u001b[0m\n",
      "\u001b[0;31mNameError\u001b[0m: name 'GridSearchCV' is not defined"
     ]
    }
   ],
   "source": [
    "gcv = GridSearchCV(clf, parameters,cv=6, scoring=\"roc_auc\", n_jobs=-1, return_train_score=True)\n",
    "gcv.fit(trainX,y)"
   ]
  },
  {
   "cell_type": "code",
   "execution_count": null,
   "id": "e826cb3c",
   "metadata": {},
   "outputs": [],
   "source": []
  },
  {
   "cell_type": "code",
   "execution_count": null,
   "id": "4cbc9eab",
   "metadata": {},
   "outputs": [],
   "source": []
  }
 ],
 "metadata": {
  "kernelspec": {
   "display_name": "Python 3",
   "language": "python",
   "name": "python3"
  },
  "language_info": {
   "codemirror_mode": {
    "name": "ipython",
    "version": 3
   },
   "file_extension": ".py",
   "mimetype": "text/x-python",
   "name": "python",
   "nbconvert_exporter": "python",
   "pygments_lexer": "ipython3",
   "version": "3.8.8"
  }
 },
 "nbformat": 4,
 "nbformat_minor": 5
}
