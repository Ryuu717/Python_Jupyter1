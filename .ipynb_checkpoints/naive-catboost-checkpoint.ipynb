{
 "cells": [
  {
   "cell_type": "markdown",
   "metadata": {
    "_cell_guid": "722432fc-69c1-434f-bd5d-1af6fa1945de",
    "_uuid": "a310d0c74ea89b076e00d89264dd66906dc589aa"
   },
   "source": [
    "In this simple notebook, we will use CatBoost to predict the price using only categorical features."
   ]
  },
  {
   "cell_type": "code",
   "execution_count": 1,
   "metadata": {
    "_cell_guid": "6b7a283b-2e58-4359-a268-060abdcba95e",
    "_uuid": "f45bc2bed9e9205110da41317e609416cd8cd271"
   },
   "outputs": [
    {
     "name": "stderr",
     "output_type": "stream",
     "text": [
      "Duplicate key in file PosixPath('/opt/anaconda3/lib/python3.8/site-packages/matplotlib/mpl-data/matplotlibrc'), line 250 ('font.family : IPAexGothic')\n"
     ]
    },
    {
     "ename": "ModuleNotFoundError",
     "evalue": "No module named 'catboost'",
     "output_type": "error",
     "traceback": [
      "\u001b[0;31m---------------------------------------------------------------------------\u001b[0m",
      "\u001b[0;31mModuleNotFoundError\u001b[0m                       Traceback (most recent call last)",
      "\u001b[0;32m<ipython-input-1-5c2df646e2c4>\u001b[0m in \u001b[0;36m<module>\u001b[0;34m\u001b[0m\n\u001b[1;32m      2\u001b[0m \u001b[0;32mimport\u001b[0m \u001b[0mpandas\u001b[0m \u001b[0;32mas\u001b[0m \u001b[0mpd\u001b[0m\u001b[0;34m\u001b[0m\u001b[0;34m\u001b[0m\u001b[0m\n\u001b[1;32m      3\u001b[0m \u001b[0;32mimport\u001b[0m \u001b[0mmatplotlib\u001b[0m\u001b[0;34m.\u001b[0m\u001b[0mpyplot\u001b[0m \u001b[0;32mas\u001b[0m \u001b[0mplt\u001b[0m\u001b[0;34m\u001b[0m\u001b[0;34m\u001b[0m\u001b[0m\n\u001b[0;32m----> 4\u001b[0;31m \u001b[0;32mimport\u001b[0m \u001b[0mcatboost\u001b[0m \u001b[0;32mas\u001b[0m \u001b[0mcboost\u001b[0m\u001b[0;34m\u001b[0m\u001b[0;34m\u001b[0m\u001b[0m\n\u001b[0m\u001b[1;32m      5\u001b[0m \u001b[0;34m\u001b[0m\u001b[0m\n\u001b[1;32m      6\u001b[0m \u001b[0mget_ipython\u001b[0m\u001b[0;34m(\u001b[0m\u001b[0;34m)\u001b[0m\u001b[0;34m.\u001b[0m\u001b[0mrun_line_magic\u001b[0m\u001b[0;34m(\u001b[0m\u001b[0;34m'matplotlib'\u001b[0m\u001b[0;34m,\u001b[0m \u001b[0;34m'inline'\u001b[0m\u001b[0;34m)\u001b[0m\u001b[0;34m\u001b[0m\u001b[0;34m\u001b[0m\u001b[0m\n",
      "\u001b[0;31mModuleNotFoundError\u001b[0m: No module named 'catboost'"
     ]
    }
   ],
   "source": [
    "import numpy as np\n",
    "import pandas as pd\n",
    "import matplotlib.pyplot as plt\n",
    "import catboost as cboost\n",
    "\n",
    "%matplotlib inline"
   ]
  },
  {
   "cell_type": "code",
   "execution_count": null,
   "metadata": {
    "_cell_guid": "fbe7f63f-06e6-4ce9-a487-83bdaaad584d",
    "_uuid": "f81461a72863f381e7a4d5214517115f9764ff6d"
   },
   "outputs": [],
   "source": [
    "df_train = pd.read_csv('../input/train.tsv', sep='\\t', index_col='train_id')\n",
    "df_test = pd.read_csv('../input/test.tsv', sep='\\t', index_col='test_id')"
   ]
  },
  {
   "cell_type": "code",
   "execution_count": null,
   "metadata": {
    "_cell_guid": "46d26b76-dd28-4e3f-8492-f57d49280672",
    "_uuid": "6be81d2685f31c81b78d1a90666371a76fc7bdc0"
   },
   "outputs": [],
   "source": [
    "# Sneak peek on data\n",
    "df_train.sample(10, random_state=42)"
   ]
  },
  {
   "cell_type": "code",
   "execution_count": null,
   "metadata": {
    "_cell_guid": "b1c2dffd-d598-4341-ad92-e57dd0bc7184",
    "_uuid": "781ff9b81f0cad421d22923f2951ebde7dfa8edf"
   },
   "outputs": [],
   "source": [
    "# Log price distribution\n",
    "(df_train.price + 1).apply(np.log10).hist(bins=50);"
   ]
  },
  {
   "cell_type": "code",
   "execution_count": null,
   "metadata": {
    "_cell_guid": "5eb686f2-71e2-4bc3-bf54-4a87e0c0452e",
    "_uuid": "5c37272462ad5646019c2b552f7b90eb2a2aa22e"
   },
   "outputs": [],
   "source": [
    "# We only use categorical features in this naive approach\n",
    "categorical_features = ['item_condition_id', 'category_name', 'brand_name', 'shipping']\n",
    "\n",
    "df_x_train = df_train[categorical_features].copy()\n",
    "df_x_test = df_test[categorical_features].copy()\n",
    "df_y_log = np.log(df_train['price']+1)"
   ]
  },
  {
   "cell_type": "code",
   "execution_count": null,
   "metadata": {
    "_cell_guid": "72e0fde2-7589-4b89-9f87-a1cf449a53c1",
    "_uuid": "c80af3094ea9aca35b9dd7913b2445ae3c715e0e"
   },
   "outputs": [],
   "source": [
    "# Factorize both train and test (avoid unseen categories in train)\n",
    "# def factorize(train, test, col, min_count):\n",
    "#     cat_ids = sorted(set(train[col].dropna().unique()) | set(test[col].dropna().unique()))\n",
    "\n",
    "#     cat_ids = {k:i for i, k in enumerate(cat_ids)}\n",
    "#     cat_ids[np.nan] = -1\n",
    "\n",
    "#     train[col] = train[col].map(cat_ids)\n",
    "#     test[col]  = test[col].map(cat_ids)\n",
    "def factorize(train, test, col, min_count):\n",
    "    train_cat_count = train[col].value_counts()\n",
    "    test_cat_count = test[col].value_counts()\n",
    "    \n",
    "    train_cat = set(train_cat_count[(train_cat_count >= min_count)].index)\n",
    "\n",
    "    cat_ids = {k:i for i, k in enumerate(sorted(train_cat))}\n",
    "    cat_ids[np.nan] = -1\n",
    "    \n",
    "    train[col] = train[col].map(cat_ids)\n",
    "    train[col] = train[col].fillna(len(cat_ids))  # Create 'other' category\n",
    "\n",
    "    test[col] = test[col].map(cat_ids)\n",
    "    test[col] = test[col].fillna(len(cat_ids))\n",
    "\n",
    "# Factorize string columns\n",
    "factorize(df_x_train, df_x_test, 'category_name', min_count=50)\n",
    "factorize(df_x_train, df_x_test, 'brand_name', min_count=50)"
   ]
  },
  {
   "cell_type": "code",
   "execution_count": null,
   "metadata": {},
   "outputs": [],
   "source": [
    "df_x_train.nunique()"
   ]
  },
  {
   "cell_type": "code",
   "execution_count": null,
   "metadata": {
    "_cell_guid": "3bddeeec-b2d4-4a91-beeb-9a335355dfac",
    "_uuid": "7e57b7393a23614a4464b153101c52b53247d0d7"
   },
   "outputs": [],
   "source": [
    "# Create train and test Pool of train\n",
    "ptrain = cboost.Pool(df_x_train, df_y_log, cat_features=np.arange(len(categorical_features)),\n",
    "                     column_description=categorical_features)\n",
    "\n",
    "ptest = cboost.Pool(df_x_test, cat_features=np.arange(len(categorical_features)),\n",
    "                     column_description=categorical_features)\n",
    "\n",
    "# Add subsample of train for cross-validation speed\n",
    "# sub_idx = np.random.choice(len(df_x_train), int(len(df_x_train) * 0.5), replace=False)\n",
    "# ptrain_sub = cboost.Pool(df_x_train.iloc[sub_idx], df_y_log.iloc[sub_idx],\n",
    "#                      cat_features=np.arange(len(categorical_features)),\n",
    "#                      column_description=categorical_features)"
   ]
  },
  {
   "cell_type": "code",
   "execution_count": null,
   "metadata": {},
   "outputs": [],
   "source": [
    "# Tune your parameters here!\n",
    "cboost_params = {\n",
    "    'nan_mode': 'Min',\n",
    "    'loss_function': 'RMSE',  # Try 'LogLinQuantile' as well\n",
    "    'iterations': 200,\n",
    "    'learning_rate': 1.0,\n",
    "    'depth': 11,\n",
    "    'verbose': True\n",
    "}\n",
    "\n",
    "best_iter = cboost_params['iterations']  # Initial 'guess' it not using CV\n",
    "\n",
    "# cv_result = cboost.cv(cboost_params, ptrain_sub, fold_count=3)\n",
    "\n",
    "# df_cv_result = pd.DataFrame({'train': cv_result['RMSE_train_avg'],\n",
    "#                              'valid': cv_result['RMSE_test_avg']})\n",
    "\n",
    "# # Best results\n",
    "# print('Best results:')\n",
    "# best_iter = df_cv_result.valid.argmin()+1\n",
    "# df_cv_bestresult = df_cv_result.iloc[best_iter-1]\n",
    "# print(df_cv_bestresult)\n",
    "\n",
    "# fig, ax = plt.subplots(1, 2, figsize=(15, 6))\n",
    "# df_cv_result.plot(ax=ax[0])\n",
    "\n",
    "# ax[1].plot(df_cv_result.train, df_cv_result.valid, 'o-')\n",
    "# ax[1].scatter([df_cv_bestresult['train']], [df_cv_bestresult['valid']], c='red')\n",
    "# ax[1].set_xlabel('train')\n",
    "# ax[1].set_ylabel('valid')"
   ]
  },
  {
   "cell_type": "code",
   "execution_count": null,
   "metadata": {
    "_cell_guid": "3ded0fe6-e4a0-4f7d-bb18-aa4a675dfff7",
    "_uuid": "d752d3776f02dcd4bac7a7a8083b7e94dd4b39ea"
   },
   "outputs": [],
   "source": [
    "# Train model on full data\n",
    "model = cboost.CatBoostRegressor(**dict(cboost_params, verbose=False, iterations=best_iter))\n",
    "\n",
    "fit_model = model.fit(ptrain)"
   ]
  },
  {
   "cell_type": "code",
   "execution_count": null,
   "metadata": {
    "_cell_guid": "b26427ac-3910-46b3-a69f-92439eb5915d",
    "_uuid": "c62c85b578b555883434834ddd45843d5bcaab1c"
   },
   "outputs": [],
   "source": [
    "# Predict test and save to .csv\n",
    "df_test['price_log'] = fit_model.predict(ptest).clip(0)  # Avoid negative prices\n",
    "\n",
    "df_test['price'] = np.exp(df_test['price_log'])-1\n",
    "\n",
    "df_test[['price']].round(5).to_csv('submission.csv', index=True)"
   ]
  },
  {
   "cell_type": "code",
   "execution_count": null,
   "metadata": {
    "_cell_guid": "fa9f74ae-ce84-4929-939d-a5e4d0f9c628",
    "_uuid": "381489c655f110e6c0d911d4614fe765f56619f4"
   },
   "outputs": [],
   "source": [
    "!head submission.csv"
   ]
  }
 ],
 "metadata": {
  "kernelspec": {
   "display_name": "Python 3",
   "language": "python",
   "name": "python3"
  },
  "language_info": {
   "codemirror_mode": {
    "name": "ipython",
    "version": 3
   },
   "file_extension": ".py",
   "mimetype": "text/x-python",
   "name": "python",
   "nbconvert_exporter": "python",
   "pygments_lexer": "ipython3",
   "version": "3.8.8"
  }
 },
 "nbformat": 4,
 "nbformat_minor": 1
}
