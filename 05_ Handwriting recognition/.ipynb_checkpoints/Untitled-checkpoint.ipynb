{
 "cells": [
  {
   "cell_type": "code",
   "execution_count": 49,
   "id": "3b652332",
   "metadata": {},
   "outputs": [],
   "source": [
    "import os\n",
    "\n",
    "\n",
    "_train_images_path = os.path.join('train')\n",
    "_test_images_path = os.path.join('test')\n",
    "_train_meta_path = os.path.join('train_master.tsv')"
   ]
  },
  {
   "cell_type": "code",
   "execution_count": 50,
   "id": "d7964bc0",
   "metadata": {},
   "outputs": [],
   "source": [
    "import pandas as pd"
   ]
  },
  {
   "cell_type": "code",
   "execution_count": 51,
   "id": "2870b9fd",
   "metadata": {
    "scrolled": true
   },
   "outputs": [
    {
     "data": {
      "text/html": [
       "<div>\n",
       "<style scoped>\n",
       "    .dataframe tbody tr th:only-of-type {\n",
       "        vertical-align: middle;\n",
       "    }\n",
       "\n",
       "    .dataframe tbody tr th {\n",
       "        vertical-align: top;\n",
       "    }\n",
       "\n",
       "    .dataframe thead th {\n",
       "        text-align: right;\n",
       "    }\n",
       "</style>\n",
       "<table border=\"1\" class=\"dataframe\">\n",
       "  <thead>\n",
       "    <tr style=\"text-align: right;\">\n",
       "      <th></th>\n",
       "      <th>file_name</th>\n",
       "      <th>category_id</th>\n",
       "    </tr>\n",
       "  </thead>\n",
       "  <tbody>\n",
       "    <tr>\n",
       "      <th>0</th>\n",
       "      <td>train_0.jpg</td>\n",
       "      <td>5</td>\n",
       "    </tr>\n",
       "    <tr>\n",
       "      <th>1</th>\n",
       "      <td>train_1.jpg</td>\n",
       "      <td>0</td>\n",
       "    </tr>\n",
       "    <tr>\n",
       "      <th>2</th>\n",
       "      <td>train_2.jpg</td>\n",
       "      <td>4</td>\n",
       "    </tr>\n",
       "    <tr>\n",
       "      <th>3</th>\n",
       "      <td>train_3.jpg</td>\n",
       "      <td>1</td>\n",
       "    </tr>\n",
       "    <tr>\n",
       "      <th>4</th>\n",
       "      <td>train_4.jpg</td>\n",
       "      <td>9</td>\n",
       "    </tr>\n",
       "  </tbody>\n",
       "</table>\n",
       "</div>"
      ],
      "text/plain": [
       "     file_name  category_id\n",
       "0  train_0.jpg            5\n",
       "1  train_1.jpg            0\n",
       "2  train_2.jpg            4\n",
       "3  train_3.jpg            1\n",
       "4  train_4.jpg            9"
      ]
     },
     "execution_count": 51,
     "metadata": {},
     "output_type": "execute_result"
    }
   ],
   "source": [
    "train_master = pd.read_csv(_train_meta_path, sep='\\t')\n",
    "train_master.head()"
   ]
  },
  {
   "cell_type": "code",
   "execution_count": 54,
   "id": "6f2ecd30",
   "metadata": {},
   "outputs": [],
   "source": [
    "from PIL import Image"
   ]
  },
  {
   "cell_type": "code",
   "execution_count": 55,
   "id": "9abd8454",
   "metadata": {},
   "outputs": [
    {
     "name": "stdout",
     "output_type": "stream",
     "text": [
      "width, height: (28, 28)\n"
     ]
    },
    {
     "data": {
      "image/png": "[encoded data removed]",
      "text/plain": [
       "<PIL.JpegImagePlugin.JpegImageFile image mode=L size=28x28 at 0x7F82B06ACC40>"
      ]
     },
     "execution_count": 55,
     "metadata": {},
     "output_type": "execute_result"
    }
   ],
   "source": [
    "image = Image.open(os.path.join(_train_images_path, 'train_0.jpg'))\n",
    "print('width, height:', image.size)\n",
    "image"
   ]
  },
  {
   "cell_type": "code",
   "execution_count": 56,
   "id": "a779ea92",
   "metadata": {},
   "outputs": [
    {
     "name": "stdout",
     "output_type": "stream",
     "text": [
      "width, height: (28, 28)\n"
     ]
    },
    {
     "data": {
      "image/png": "[encoded data removed]",
      "text/plain": [
       "<PIL.JpegImagePlugin.JpegImageFile image mode=L size=28x28 at 0x7F82D0AA5F70>"
      ]
     },
     "execution_count": 56,
     "metadata": {},
     "output_type": "execute_result"
    }
   ],
   "source": [
    "image = Image.open(os.path.join(_train_images_path, 'train_1.jpg'))\n",
    "print('width, height:', image.size)\n",
    "image"
   ]
  },
  {
   "cell_type": "code",
   "execution_count": 57,
   "id": "d838364e",
   "metadata": {},
   "outputs": [
    {
     "data": {
      "text/plain": [
       "0    5923\n",
       "1    6742\n",
       "2    5958\n",
       "3    6131\n",
       "4    5842\n",
       "5    5421\n",
       "6    5918\n",
       "7    6265\n",
       "8    5851\n",
       "9    5949\n",
       "Name: category_id, dtype: int64"
      ]
     },
     "execution_count": 57,
     "metadata": {},
     "output_type": "execute_result"
    }
   ],
   "source": [
    "train_master['category_id'].value_counts().sort_index()"
   ]
  },
  {
   "cell_type": "code",
   "execution_count": 58,
   "id": "5ffdecba",
   "metadata": {},
   "outputs": [],
   "source": [
    "import numpy as np\n",
    "\n",
    "num_train = len(train_master)\n",
    "image_size = (28,28)\n",
    "train_X = np.zeros((num_train,)+(1,)+image_size)\n",
    "train_Y = np.zeros((num_train,))\n",
    "for data in train_master.iterrows():\n",
    "    image = Image.open(os.path.join(_train_images_path, data[1]['file_name']))\n",
    "    image_array = np.array(image).reshape((1,)+image_size)\n",
    "    train_X[data[0],:] = image_array/255.\n",
    "    train_Y[data[0]] = data[1]['category_id']"
   ]
  },
  {
   "cell_type": "code",
   "execution_count": 59,
   "id": "8b24c11b",
   "metadata": {},
   "outputs": [],
   "source": [
    "train_X = train_X.astype(np.float32)\n",
    "train_Y = train_Y.astype(np.int32)"
   ]
  },
  {
   "cell_type": "code",
   "execution_count": 60,
   "id": "d95d8172",
   "metadata": {},
   "outputs": [
    {
     "name": "stdout",
     "output_type": "stream",
     "text": [
      "(60000, 1, 28, 28)\n",
      "(60000,)\n"
     ]
    }
   ],
   "source": [
    "print(train_X.shape)\n",
    "print(train_Y.shape)"
   ]
  },
  {
   "cell_type": "code",
   "execution_count": 62,
   "id": "45c71465",
   "metadata": {},
   "outputs": [],
   "source": [
    "from chainer import Chain\n",
    "import chainer.links as L\n",
    "\n",
    "class LeNet(Chain):\n",
    "    def __init__(self, out_size=10, act_func = ''):\n",
    "        super(LeNet, self).__init__(\n",
    "                    conv1 = L.Convolution2D(None, 6, 5, stride=1),\n",
    "                    conv2 = L.Convolution2D(None, 16, 5, stride=1),\n",
    "                    fc3 = L.Linear(None, 120),\n",
    "                    fc4 = L.Linear(None, 84),\n",
    "                    fc5 = L.Linear(None, out_size))\n",
    "        self.train = True\n",
    "        if act_func == 'sigmoid':\n",
    "            print('activation function is', act_func)\n",
    "            self.act_func = F.sigmoid\n",
    "        elif act_func == 'relu':\n",
    "            print('activation function is', act_func)\n",
    "            self.act_func = F.relu\n",
    "        else:\n",
    "            print('activation function is', 'tanh')\n",
    "            self.act_func = F.tanh\n",
    "    \n",
    "    def __call__(self, x):\n",
    "        with chainer.using_config('enable_backprop', self.train):\n",
    "            h = F.max_pooling_2d(self.act_func(self.conv1(x)), 2, stride=2)\n",
    "            h = F.max_pooling_2d(self.act_func(self.conv2(x)), 2, stride=2)\n",
    "            h = self.act_func(self.fc3(h))\n",
    "            h = self.act_func(self.fc4(h))\n",
    "            y = self.fc5(h)\n",
    "        \n",
    "            return y"
   ]
  },
  {
   "cell_type": "code",
   "execution_count": 64,
   "id": "605ebfa9",
   "metadata": {},
   "outputs": [],
   "source": [
    "import chainer\n",
    "import chainer.functions as F\n",
    "import chainer.cuda as cuda\n",
    "from chainer import Chain, optimizers, serializers\n",
    "#from time import clock\n",
    "import time\n",
    "\n",
    "\n",
    "def train_model(model, train, model_name, val = False, batchsize = 128, init_lr = 0.01, num_epochs = 50, gpu = True):\n",
    "    \"\"\"\n",
    "    train: (np.array, np.array)\n",
    "    val: (np.array, np.array)\n",
    "    \"\"\"\n",
    "    X_train, Y_train = train\n",
    "    \n",
    "    if val:\n",
    "        X_train, X_val = np.split(X_train,[54000])\n",
    "        Y_train, Y_val = np.split(Y_train,[54000])\n",
    "        n_val = len(X_val)\n",
    "    n_train = len(X_train)\n",
    "    optimizer = optimizers.NesterovAG(lr=init_lr)\n",
    "    optimizer.setup(model)\n",
    "    \n",
    "    \n",
    "    if gpu:\n",
    "        model.to_gpu()\n",
    "    update_start = time.clock()\n",
    "    for epoch in range(num_epochs):\n",
    "        print('-'*20, 'epoch:', epoch+1, '-'*20)\n",
    "        # training\n",
    "        count = 0\n",
    "        num_samples = 0\n",
    "        train_loss = 0\n",
    "        train_acc = 0\n",
    "        train_start = time.clock()\n",
    "        print('training...')\n",
    "        for t in range(0, n_train, batchsize):\n",
    "            model.cleargrads()\n",
    "            minibatch, labels = X_train[t:t+batchsize], Y_train[t:t+batchsize]\n",
    "            if gpu:\n",
    "                minibatch = cuda.to_gpu(minibatch)\n",
    "                labels = cuda.to_gpu(labels)\n",
    "            y = model(minibatch)\n",
    "            loss = F.softmax_cross_entropy(y, labels)\n",
    "            loss.backward()\n",
    "            optimizer.update()\n",
    "            y_pred = F.softmax(y)\n",
    "            preds = cuda.to_cpu(y_pred.data).argmax(axis=1)\n",
    "            labels = cuda.to_cpu(labels)\n",
    "            train_loss += float(loss.data)*len(minibatch)\n",
    "            train_acc += (labels==preds).sum()\n",
    "            count += 1\n",
    "            num_samples += len(minibatch)\n",
    "        print('train_acc:', round(train_acc/num_samples, 4), 'train_loss:', round(train_loss/num_samples, 4))\n",
    "        print('Took', time.clock() - train_start, 'seconds.')\n",
    "        \n",
    "        index = np.random.permutation(np.arange(n_train))\n",
    "        X_train = X_train[index]\n",
    "        Y_train = Y_train[index]\n",
    "\n",
    "        if val:\n",
    "            # validation\n",
    "            val_acc = 0\n",
    "            val_loss = 0\n",
    "            num_samples = 0\n",
    "            count = 0\n",
    "            model.train = False\n",
    "            val_start = time.clock()\n",
    "            print('\\n')\n",
    "            print('validating...')\n",
    "            for v in range(0, n_val, batchsize):\n",
    "                minibatch, labels = X_val[v:v+batchsize], Y_val[v:v+batchsize]\n",
    "                if gpu:\n",
    "                    minibatch = cuda.to_gpu(minibatch)\n",
    "                    labels = cuda.to_gpu(labels)\n",
    "                y = model(minibatch)\n",
    "                loss = F.softmax_cross_entropy(y, labels)\n",
    "                y_pred = F.softmax(y)\n",
    "                preds = cuda.to_cpu(y_pred.data).argmax(axis=1)\n",
    "                val_loss += float(loss.data)*len(minibatch)\n",
    "                labels = cuda.to_cpu(labels)\n",
    "                val_acc += (labels==preds).sum()\n",
    "                count+=1\n",
    "                num_samples += len(minibatch)\n",
    "            val_acc /= num_samples\n",
    "            print('val_acc:', round(val_acc, 4), 'val_loss:', round(val_loss/num_samples, 4))\n",
    "            print('Took', time.clock()-val_start, 'seconds.')\n",
    "            model.train = True\n",
    "        serializers.save_npz(model_name+'.npz', model)\n",
    "        \n",
    "    print('\\nTook', time.clock()-update_start, 'seconds.')"
   ]
  },
  {
   "cell_type": "code",
   "execution_count": 65,
   "id": "2f36b4e7",
   "metadata": {},
   "outputs": [
    {
     "name": "stdout",
     "output_type": "stream",
     "text": [
      "activation function is tanh\n"
     ]
    }
   ],
   "source": [
    "lenet = LeNet()"
   ]
  },
  {
   "cell_type": "code",
   "execution_count": 66,
   "id": "5d155c68",
   "metadata": {},
   "outputs": [],
   "source": [
    "train = train_X, train_Y"
   ]
  },
  {
   "cell_type": "code",
   "execution_count": 72,
   "id": "11e64bc5",
   "metadata": {
    "scrolled": true
   },
   "outputs": [
    {
     "ename": "RuntimeError",
     "evalue": "CUDA environment is not correctly set up\n(see https://github.com/chainer/chainer#installation).No module named 'cupy'",
     "output_type": "error",
     "traceback": [
      "\u001b[0;31m---------------------------------------------------------------------------\u001b[0m",
      "\u001b[0;31mRuntimeError\u001b[0m                              Traceback (most recent call last)",
      "\u001b[0;32m<ipython-input-72-efb0fa7abaaa>\u001b[0m in \u001b[0;36m<module>\u001b[0;34m\u001b[0m\n\u001b[0;32m----> 1\u001b[0;31m \u001b[0mtrain_model\u001b[0m\u001b[0;34m(\u001b[0m\u001b[0mlenet\u001b[0m\u001b[0;34m,\u001b[0m \u001b[0mtrain\u001b[0m\u001b[0;34m,\u001b[0m \u001b[0;34m'lenet'\u001b[0m\u001b[0;34m)\u001b[0m\u001b[0;34m\u001b[0m\u001b[0;34m\u001b[0m\u001b[0m\n\u001b[0m",
      "\u001b[0;32m<ipython-input-64-2f9607d926a1>\u001b[0m in \u001b[0;36mtrain_model\u001b[0;34m(model, train, model_name, val, batchsize, init_lr, num_epochs, gpu)\u001b[0m\n\u001b[1;32m     24\u001b[0m \u001b[0;34m\u001b[0m\u001b[0m\n\u001b[1;32m     25\u001b[0m     \u001b[0;32mif\u001b[0m \u001b[0mgpu\u001b[0m\u001b[0;34m:\u001b[0m\u001b[0;34m\u001b[0m\u001b[0;34m\u001b[0m\u001b[0m\n\u001b[0;32m---> 26\u001b[0;31m         \u001b[0mmodel\u001b[0m\u001b[0;34m.\u001b[0m\u001b[0mto_gpu\u001b[0m\u001b[0;34m(\u001b[0m\u001b[0;34m)\u001b[0m\u001b[0;34m\u001b[0m\u001b[0;34m\u001b[0m\u001b[0m\n\u001b[0m\u001b[1;32m     27\u001b[0m     \u001b[0mupdate_start\u001b[0m \u001b[0;34m=\u001b[0m \u001b[0mtime\u001b[0m\u001b[0;34m.\u001b[0m\u001b[0mclock\u001b[0m\u001b[0;34m(\u001b[0m\u001b[0;34m)\u001b[0m\u001b[0;34m\u001b[0m\u001b[0;34m\u001b[0m\u001b[0m\n\u001b[1;32m     28\u001b[0m     \u001b[0;32mfor\u001b[0m \u001b[0mepoch\u001b[0m \u001b[0;32min\u001b[0m \u001b[0mrange\u001b[0m\u001b[0;34m(\u001b[0m\u001b[0mnum_epochs\u001b[0m\u001b[0;34m)\u001b[0m\u001b[0;34m:\u001b[0m\u001b[0;34m\u001b[0m\u001b[0;34m\u001b[0m\u001b[0m\n",
      "\u001b[0;32m/opt/anaconda3/lib/python3.8/site-packages/chainer/device_resident.py\u001b[0m in \u001b[0;36mto_gpu\u001b[0;34m(self, device)\u001b[0m\n\u001b[1;32m    115\u001b[0m \u001b[0;34m\u001b[0m\u001b[0m\n\u001b[1;32m    116\u001b[0m         \"\"\"\n\u001b[0;32m--> 117\u001b[0;31m         \u001b[0mcuda\u001b[0m\u001b[0;34m.\u001b[0m\u001b[0mcheck_cuda_available\u001b[0m\u001b[0;34m(\u001b[0m\u001b[0;34m)\u001b[0m\u001b[0;34m\u001b[0m\u001b[0;34m\u001b[0m\u001b[0m\n\u001b[0m\u001b[1;32m    118\u001b[0m         \u001b[0mcuda_device\u001b[0m \u001b[0;34m=\u001b[0m \u001b[0mcuda\u001b[0m\u001b[0;34m.\u001b[0m\u001b[0m_get_device_or_current\u001b[0m\u001b[0;34m(\u001b[0m\u001b[0mdevice\u001b[0m\u001b[0;34m)\u001b[0m\u001b[0;34m\u001b[0m\u001b[0;34m\u001b[0m\u001b[0m\n\u001b[1;32m    119\u001b[0m         \u001b[0mdevice\u001b[0m \u001b[0;34m=\u001b[0m \u001b[0mchainer\u001b[0m\u001b[0;34m.\u001b[0m\u001b[0mbackends\u001b[0m\u001b[0;34m.\u001b[0m\u001b[0mcuda\u001b[0m\u001b[0;34m.\u001b[0m\u001b[0mGpuDevice\u001b[0m\u001b[0;34m(\u001b[0m\u001b[0mcuda_device\u001b[0m\u001b[0;34m)\u001b[0m\u001b[0;34m\u001b[0m\u001b[0;34m\u001b[0m\u001b[0m\n",
      "\u001b[0;32m/opt/anaconda3/lib/python3.8/site-packages/chainer/backends/cuda.py\u001b[0m in \u001b[0;36mcheck_cuda_available\u001b[0;34m()\u001b[0m\n\u001b[1;32m    148\u001b[0m                '(see https://github.com/chainer/chainer#installation).')\n\u001b[1;32m    149\u001b[0m         \u001b[0mmsg\u001b[0m \u001b[0;34m+=\u001b[0m \u001b[0mstr\u001b[0m\u001b[0;34m(\u001b[0m\u001b[0m_resolution_error\u001b[0m\u001b[0;34m)\u001b[0m\u001b[0;34m\u001b[0m\u001b[0;34m\u001b[0m\u001b[0m\n\u001b[0;32m--> 150\u001b[0;31m         \u001b[0;32mraise\u001b[0m \u001b[0mRuntimeError\u001b[0m\u001b[0;34m(\u001b[0m\u001b[0mmsg\u001b[0m\u001b[0;34m)\u001b[0m\u001b[0;34m\u001b[0m\u001b[0;34m\u001b[0m\u001b[0m\n\u001b[0m\u001b[1;32m    151\u001b[0m     if (not cudnn_enabled and\n\u001b[1;32m    152\u001b[0m             \u001b[0;32mnot\u001b[0m \u001b[0m_cudnn_disabled_by_user\u001b[0m \u001b[0;32mand\u001b[0m\u001b[0;34m\u001b[0m\u001b[0;34m\u001b[0m\u001b[0m\n",
      "\u001b[0;31mRuntimeError\u001b[0m: CUDA environment is not correctly set up\n(see https://github.com/chainer/chainer#installation).No module named 'cupy'"
     ]
    }
   ],
   "source": [
    "train_model(lenet, train, 'lenet')"
   ]
  },
  {
   "cell_type": "code",
   "execution_count": 73,
   "id": "eedf4787",
   "metadata": {},
   "outputs": [
    {
     "name": "stdout",
     "output_type": "stream",
     "text": [
      "Platform: macOS-10.16-x86_64-i386-64bit\n",
      "Chainer: 7.8.0\n",
      "ChainerX: Not Available\n",
      "NumPy: 1.19.5\n",
      "CuPy: Not Available\n",
      "iDeep: Not Available\n"
     ]
    }
   ],
   "source": [
    "chainer.print_runtime_info()"
   ]
  },
  {
   "cell_type": "code",
   "execution_count": null,
   "id": "6a2f0ecb",
   "metadata": {},
   "outputs": [],
   "source": []
  }
 ],
 "metadata": {
  "kernelspec": {
   "display_name": "Python 3",
   "language": "python",
   "name": "python3"
  },
  "language_info": {
   "codemirror_mode": {
    "name": "ipython",
    "version": 3
   },
   "file_extension": ".py",
   "mimetype": "text/x-python",
   "name": "python",
   "nbconvert_exporter": "python",
   "pygments_lexer": "ipython3",
   "version": "3.8.8"
  }
 },
 "nbformat": 4,
 "nbformat_minor": 5
}
